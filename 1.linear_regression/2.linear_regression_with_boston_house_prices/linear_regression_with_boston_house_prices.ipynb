{
 "cells": [
  {
   "cell_type": "markdown",
   "id": "3679b86a-f962-40cc-9386-1b9fa059a39b",
   "metadata": {},
   "source": [
    "# Linear Regression with Boston House Prices"
   ]
  },
  {
   "cell_type": "code",
   "execution_count": 1,
   "id": "00d43cc8-18ca-4d94-a77d-288ede29209c",
   "metadata": {},
   "outputs": [],
   "source": [
    "import os\n",
    "import sys\n",
    "module_path = os.path.abspath(os.path.join('..', '..'))\n",
    "if module_path not in sys.path:\n",
    "    sys.path.append(module_path)"
   ]
  },
  {
   "cell_type": "code",
   "execution_count": 2,
   "id": "9c333c4c-0c02-48ff-8c60-275a9be97dc6",
   "metadata": {},
   "outputs": [],
   "source": [
    "from kaggle_utils.utils import KaggleUtils"
   ]
  },
  {
   "cell_type": "code",
   "execution_count": 3,
   "id": "cdc3510f-b1e9-4b3f-8e40-96c2c47c15c1",
   "metadata": {},
   "outputs": [
    {
     "name": "stdout",
     "output_type": "stream",
     "text": [
      "The dataset vikrishnan/boston-house-prices was sucessfully downloaded.\n"
     ]
    }
   ],
   "source": [
    "dataset_name = 'vikrishnan/boston-house-prices'\n",
    "with KaggleUtils() as api:\n",
    "    api.kaggle_download_dataset(dataset_name)"
   ]
  },
  {
   "cell_type": "code",
   "execution_count": null,
   "id": "dcfc2169-18e6-4673-92af-5f4da8a3c222",
   "metadata": {},
   "outputs": [],
   "source": []
  }
 ],
 "metadata": {
  "kernelspec": {
   "display_name": "venv",
   "language": "python",
   "name": "venv"
  },
  "language_info": {
   "codemirror_mode": {
    "name": "ipython",
    "version": 3
   },
   "file_extension": ".py",
   "mimetype": "text/x-python",
   "name": "python",
   "nbconvert_exporter": "python",
   "pygments_lexer": "ipython3",
   "version": "3.10.6"
  }
 },
 "nbformat": 4,
 "nbformat_minor": 5
}
