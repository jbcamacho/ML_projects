{
  "cells": [
    {
      "cell_type": "markdown",
      "metadata": {
        "id": "view-in-github",
        "colab_type": "text"
      },
      "source": [
        "<a href=\"https://colab.research.google.com/github/jbcamacho/ML_projects/blob/main/analyzing_120_years_of_olympic_history.ipynb\" target=\"_parent\"><img src=\"https://colab.research.google.com/assets/colab-badge.svg\" alt=\"Open In Colab\"/></a>"
      ]
    },
    {
      "cell_type": "code",
      "execution_count": null,
      "metadata": {
        "id": "YBUd7qKjE-ns"
      },
      "outputs": [],
      "source": [
        "# Jovian Commit Essentials\n",
        "# Please retain and execute this cell without modifying the contents for `jovian.commit` to work\n",
        "!pip install jovian --upgrade -q\n",
        "import jovian\n",
        "jovian.set_project('zerotopandas-course-project-starter-2b4c3')\n",
        "jovian.set_colab_id('1eeyv2kYqyh_x97iPky-JkKsp0-EsWDq8')"
      ]
    },
    {
      "cell_type": "markdown",
      "metadata": {
        "id": "8fhBQAzuE-n2"
      },
      "source": [
        "# Analyzing 120 years of Olympic history: from Athens 1896 to Rio 2016\n",
        "\n",
        "In this project, we will analyze and explore 120 years of Olympic Games data. The dataset is divided into two files. The first file `athlete_events.csv` contains 271,116 rows and 15 columns: ID, Name, Sex, Age,\tHeight,\tWeight,\tTeam,\tNOC,\tGames, Year,\tSeason,\tCity,\tSport, Event, and\tMedal. Each row corresponds to an individual athlete competing in an individual Olympic event (athlete-events). It contains both information about summer and winter games. The second file `noc_regions.csv` contains 230 rows and 3 columns: NOC, region, and notes. The dataset was downloaded from Kaggle and the original analysis can be found in: [120 years of Olympic history: athletes and results](https://www.kaggle.com/code/heesoo37/olympic-history-data-a-thorough-analysis/report).\n",
        "\n",
        "The analysis will have four steps:\n",
        "- Data preparation and cleaning: We will be removing outliers and filling up the Nan values.\n",
        "- Exploratory Analysis and Visualization: We will be exploring the dataset and its composition.\n",
        "- Asking and Answering Questions: We will ask some interesting questions about the dataset and extract some inferences.\n",
        "- Inferences and Conclusion: We will summarize the key inferences obtained from the previous steps.\n",
        "\n",
        "Additionally, in the last section *References and Future Work*, we'll be discussing future analyses and work with this dataset."
      ]
    },
    {
      "cell_type": "markdown",
      "metadata": {
        "id": "gXnst5fEE-n4"
      },
      "source": [
        "## Downloading the Dataset\n",
        "\n",
        "First, we are going to download the dataset using the [`opendatasets`](https://github.com/JovianML/opendatasets#opendatasets) library. The `opendatasets` is a library for downloading datasets from [Kaggle](https://www.kaggle.com/). Kaggle is a website and community where you can find thousands of datasets for data science projects."
      ]
    },
    {
      "cell_type": "code",
      "execution_count": null,
      "metadata": {
        "id": "TdiP6cmOE-n5"
      },
      "outputs": [],
      "source": [
        "!pip install jovian opendatasets --upgrade --quiet"
      ]
    },
    {
      "cell_type": "code",
      "execution_count": null,
      "metadata": {
        "id": "6SSlyGE8E-n8",
        "colab": {
          "base_uri": "https://localhost:8080/"
        },
        "outputId": "844c0010-56e3-49c2-ca9f-14e167230c61"
      },
      "outputs": [
        {
          "output_type": "stream",
          "name": "stdout",
          "text": [
            "Please provide your Kaggle credentials to download this dataset. Learn more: http://bit.ly/kaggle-creds\n",
            "Your Kaggle username: jbcamacho\n",
            "Your Kaggle Key: ··········\n",
            "Downloading 120-years-of-olympic-history-athletes-and-results.zip to ./120-years-of-olympic-history-athletes-and-results\n"
          ]
        },
        {
          "output_type": "stream",
          "name": "stderr",
          "text": [
            "100%|██████████| 5.43M/5.43M [00:00<00:00, 116MB/s]"
          ]
        },
        {
          "output_type": "stream",
          "name": "stdout",
          "text": [
            "\n"
          ]
        },
        {
          "output_type": "stream",
          "name": "stderr",
          "text": [
            "\n"
          ]
        }
      ],
      "source": [
        "import opendatasets as od\n",
        "dataset_url = 'https://www.kaggle.com/datasets/heesoo37/120-years-of-olympic-history-athletes-and-results' \n",
        "od.download(dataset_url)"
      ]
    },
    {
      "cell_type": "markdown",
      "metadata": {
        "id": "Xtt8jAYGE-n9"
      },
      "source": [
        "Up to this point, the dataset has been downloaded and extracted. Let's list the files within the dataset."
      ]
    },
    {
      "cell_type": "code",
      "execution_count": null,
      "metadata": {
        "colab": {
          "base_uri": "https://localhost:8080/"
        },
        "id": "bNFNKcq_E-oB",
        "outputId": "7c81b317-9baf-405b-eabb-b50c7f140dfa"
      },
      "outputs": [
        {
          "output_type": "execute_result",
          "data": {
            "text/plain": [
              "['noc_regions.csv', 'athlete_events.csv']"
            ]
          },
          "metadata": {},
          "execution_count": 5
        }
      ],
      "source": [
        "import os\n",
        "data_dir = './120-years-of-olympic-history-athletes-and-results'\n",
        "os.listdir(data_dir)"
      ]
    },
    {
      "cell_type": "markdown",
      "metadata": {
        "id": "vksfYV2cE-oC"
      },
      "source": [
        "Let us save and upload our work to Jovian before continuing."
      ]
    },
    {
      "cell_type": "code",
      "execution_count": null,
      "metadata": {
        "id": "qdckHWcyE-oD"
      },
      "outputs": [],
      "source": [
        "project_name = \"Analyzing-120-years-of-Olympic-history\" # change this (use lowercase letters and hyphens only)"
      ]
    },
    {
      "cell_type": "code",
      "execution_count": null,
      "metadata": {
        "id": "2yXJ_L_5E-oE"
      },
      "outputs": [],
      "source": [
        "!pip install jovian --upgrade -q"
      ]
    },
    {
      "cell_type": "code",
      "execution_count": null,
      "metadata": {
        "id": "dkbgXPYVE-oF"
      },
      "outputs": [],
      "source": [
        "import jovian"
      ]
    },
    {
      "cell_type": "code",
      "execution_count": null,
      "metadata": {
        "id": "lOpM_1CaE-oG",
        "colab": {
          "base_uri": "https://localhost:8080/",
          "height": 122
        },
        "outputId": "0f167f33-f8b4-4237-a6d6-c47e2b830bb9"
      },
      "outputs": [
        {
          "output_type": "stream",
          "name": "stdout",
          "text": [
            "[jovian] Detected Colab notebook...\u001b[0m\n",
            "[jovian] Please enter your API key ( from https://jovian.ai/ ):\u001b[0m\n",
            "API KEY: ··········\n",
            "[jovian] Uploading colab notebook to Jovian...\u001b[0m\n",
            "Committed successfully! https://jovian.ai/jbcamacho01/analyzing-120-years-of-olympic-history\n"
          ]
        },
        {
          "output_type": "execute_result",
          "data": {
            "text/plain": [
              "'https://jovian.ai/jbcamacho01/analyzing-120-years-of-olympic-history'"
            ],
            "application/vnd.google.colaboratory.intrinsic+json": {
              "type": "string"
            }
          },
          "metadata": {},
          "execution_count": 10
        }
      ],
      "source": [
        "jovian.commit(project=project_name)"
      ]
    },
    {
      "cell_type": "markdown",
      "metadata": {
        "id": "RiTE9ijhE-oG"
      },
      "source": [
        "## Data Preparation and Cleaning\n",
        "\n",
        "For our analysis, we are going to use the file `athlete_events.csv`, which was downloaded from Kaggle. We need to prepare our data by replacing all the Nan values by a corresponding valid value. Also, we need to convert our data frame into a data series by re-indexing our data using the year column.\n",
        "\n"
      ]
    },
    {
      "cell_type": "code",
      "execution_count": null,
      "metadata": {
        "id": "IP9qcXROE-oH"
      },
      "outputs": [],
      "source": [
        "import pandas as pd"
      ]
    },
    {
      "cell_type": "code",
      "execution_count": null,
      "metadata": {
        "id": "kLieRivbE-oI"
      },
      "outputs": [],
      "source": [
        "data_path = \"/content/120-years-of-olympic-history-athletes-and-results/athlete_events.csv\"\n",
        "data_df = pd.read_csv(data_path)"
      ]
    },
    {
      "cell_type": "code",
      "execution_count": null,
      "metadata": {
        "colab": {
          "base_uri": "https://localhost:8080/",
          "height": 206
        },
        "id": "T4U86UDYE-oI",
        "outputId": "bb3c1f9b-2558-4840-8d9b-9d58d4c61161"
      },
      "outputs": [
        {
          "output_type": "execute_result",
          "data": {
            "text/plain": [
              "   ID                      Name Sex   Age  Height  Weight            Team  \\\n",
              "0   1                 A Dijiang   M  24.0   180.0    80.0           China   \n",
              "1   2                  A Lamusi   M  23.0   170.0    60.0           China   \n",
              "2   3       Gunnar Nielsen Aaby   M  24.0     NaN     NaN         Denmark   \n",
              "3   4      Edgar Lindenau Aabye   M  34.0     NaN     NaN  Denmark/Sweden   \n",
              "4   5  Christine Jacoba Aaftink   F  21.0   185.0    82.0     Netherlands   \n",
              "\n",
              "   NOC        Games  Year  Season       City          Sport  \\\n",
              "0  CHN  1992 Summer  1992  Summer  Barcelona     Basketball   \n",
              "1  CHN  2012 Summer  2012  Summer     London           Judo   \n",
              "2  DEN  1920 Summer  1920  Summer  Antwerpen       Football   \n",
              "3  DEN  1900 Summer  1900  Summer      Paris     Tug-Of-War   \n",
              "4  NED  1988 Winter  1988  Winter    Calgary  Speed Skating   \n",
              "\n",
              "                              Event Medal  \n",
              "0       Basketball Men's Basketball   NaN  \n",
              "1      Judo Men's Extra-Lightweight   NaN  \n",
              "2           Football Men's Football   NaN  \n",
              "3       Tug-Of-War Men's Tug-Of-War  Gold  \n",
              "4  Speed Skating Women's 500 metres   NaN  "
            ],
            "text/html": [
              "\n",
              "  <div id=\"df-c0a1b767-6aa0-4173-8e81-15e2ad7abf7e\">\n",
              "    <div class=\"colab-df-container\">\n",
              "      <div>\n",
              "<style scoped>\n",
              "    .dataframe tbody tr th:only-of-type {\n",
              "        vertical-align: middle;\n",
              "    }\n",
              "\n",
              "    .dataframe tbody tr th {\n",
              "        vertical-align: top;\n",
              "    }\n",
              "\n",
              "    .dataframe thead th {\n",
              "        text-align: right;\n",
              "    }\n",
              "</style>\n",
              "<table border=\"1\" class=\"dataframe\">\n",
              "  <thead>\n",
              "    <tr style=\"text-align: right;\">\n",
              "      <th></th>\n",
              "      <th>ID</th>\n",
              "      <th>Name</th>\n",
              "      <th>Sex</th>\n",
              "      <th>Age</th>\n",
              "      <th>Height</th>\n",
              "      <th>Weight</th>\n",
              "      <th>Team</th>\n",
              "      <th>NOC</th>\n",
              "      <th>Games</th>\n",
              "      <th>Year</th>\n",
              "      <th>Season</th>\n",
              "      <th>City</th>\n",
              "      <th>Sport</th>\n",
              "      <th>Event</th>\n",
              "      <th>Medal</th>\n",
              "    </tr>\n",
              "  </thead>\n",
              "  <tbody>\n",
              "    <tr>\n",
              "      <th>0</th>\n",
              "      <td>1</td>\n",
              "      <td>A Dijiang</td>\n",
              "      <td>M</td>\n",
              "      <td>24.0</td>\n",
              "      <td>180.0</td>\n",
              "      <td>80.0</td>\n",
              "      <td>China</td>\n",
              "      <td>CHN</td>\n",
              "      <td>1992 Summer</td>\n",
              "      <td>1992</td>\n",
              "      <td>Summer</td>\n",
              "      <td>Barcelona</td>\n",
              "      <td>Basketball</td>\n",
              "      <td>Basketball Men's Basketball</td>\n",
              "      <td>NaN</td>\n",
              "    </tr>\n",
              "    <tr>\n",
              "      <th>1</th>\n",
              "      <td>2</td>\n",
              "      <td>A Lamusi</td>\n",
              "      <td>M</td>\n",
              "      <td>23.0</td>\n",
              "      <td>170.0</td>\n",
              "      <td>60.0</td>\n",
              "      <td>China</td>\n",
              "      <td>CHN</td>\n",
              "      <td>2012 Summer</td>\n",
              "      <td>2012</td>\n",
              "      <td>Summer</td>\n",
              "      <td>London</td>\n",
              "      <td>Judo</td>\n",
              "      <td>Judo Men's Extra-Lightweight</td>\n",
              "      <td>NaN</td>\n",
              "    </tr>\n",
              "    <tr>\n",
              "      <th>2</th>\n",
              "      <td>3</td>\n",
              "      <td>Gunnar Nielsen Aaby</td>\n",
              "      <td>M</td>\n",
              "      <td>24.0</td>\n",
              "      <td>NaN</td>\n",
              "      <td>NaN</td>\n",
              "      <td>Denmark</td>\n",
              "      <td>DEN</td>\n",
              "      <td>1920 Summer</td>\n",
              "      <td>1920</td>\n",
              "      <td>Summer</td>\n",
              "      <td>Antwerpen</td>\n",
              "      <td>Football</td>\n",
              "      <td>Football Men's Football</td>\n",
              "      <td>NaN</td>\n",
              "    </tr>\n",
              "    <tr>\n",
              "      <th>3</th>\n",
              "      <td>4</td>\n",
              "      <td>Edgar Lindenau Aabye</td>\n",
              "      <td>M</td>\n",
              "      <td>34.0</td>\n",
              "      <td>NaN</td>\n",
              "      <td>NaN</td>\n",
              "      <td>Denmark/Sweden</td>\n",
              "      <td>DEN</td>\n",
              "      <td>1900 Summer</td>\n",
              "      <td>1900</td>\n",
              "      <td>Summer</td>\n",
              "      <td>Paris</td>\n",
              "      <td>Tug-Of-War</td>\n",
              "      <td>Tug-Of-War Men's Tug-Of-War</td>\n",
              "      <td>Gold</td>\n",
              "    </tr>\n",
              "    <tr>\n",
              "      <th>4</th>\n",
              "      <td>5</td>\n",
              "      <td>Christine Jacoba Aaftink</td>\n",
              "      <td>F</td>\n",
              "      <td>21.0</td>\n",
              "      <td>185.0</td>\n",
              "      <td>82.0</td>\n",
              "      <td>Netherlands</td>\n",
              "      <td>NED</td>\n",
              "      <td>1988 Winter</td>\n",
              "      <td>1988</td>\n",
              "      <td>Winter</td>\n",
              "      <td>Calgary</td>\n",
              "      <td>Speed Skating</td>\n",
              "      <td>Speed Skating Women's 500 metres</td>\n",
              "      <td>NaN</td>\n",
              "    </tr>\n",
              "  </tbody>\n",
              "</table>\n",
              "</div>\n",
              "      <button class=\"colab-df-convert\" onclick=\"convertToInteractive('df-c0a1b767-6aa0-4173-8e81-15e2ad7abf7e')\"\n",
              "              title=\"Convert this dataframe to an interactive table.\"\n",
              "              style=\"display:none;\">\n",
              "        \n",
              "  <svg xmlns=\"http://www.w3.org/2000/svg\" height=\"24px\"viewBox=\"0 0 24 24\"\n",
              "       width=\"24px\">\n",
              "    <path d=\"M0 0h24v24H0V0z\" fill=\"none\"/>\n",
              "    <path d=\"M18.56 5.44l.94 2.06.94-2.06 2.06-.94-2.06-.94-.94-2.06-.94 2.06-2.06.94zm-11 1L8.5 8.5l.94-2.06 2.06-.94-2.06-.94L8.5 2.5l-.94 2.06-2.06.94zm10 10l.94 2.06.94-2.06 2.06-.94-2.06-.94-.94-2.06-.94 2.06-2.06.94z\"/><path d=\"M17.41 7.96l-1.37-1.37c-.4-.4-.92-.59-1.43-.59-.52 0-1.04.2-1.43.59L10.3 9.45l-7.72 7.72c-.78.78-.78 2.05 0 2.83L4 21.41c.39.39.9.59 1.41.59.51 0 1.02-.2 1.41-.59l7.78-7.78 2.81-2.81c.8-.78.8-2.07 0-2.86zM5.41 20L4 18.59l7.72-7.72 1.47 1.35L5.41 20z\"/>\n",
              "  </svg>\n",
              "      </button>\n",
              "      \n",
              "  <style>\n",
              "    .colab-df-container {\n",
              "      display:flex;\n",
              "      flex-wrap:wrap;\n",
              "      gap: 12px;\n",
              "    }\n",
              "\n",
              "    .colab-df-convert {\n",
              "      background-color: #E8F0FE;\n",
              "      border: none;\n",
              "      border-radius: 50%;\n",
              "      cursor: pointer;\n",
              "      display: none;\n",
              "      fill: #1967D2;\n",
              "      height: 32px;\n",
              "      padding: 0 0 0 0;\n",
              "      width: 32px;\n",
              "    }\n",
              "\n",
              "    .colab-df-convert:hover {\n",
              "      background-color: #E2EBFA;\n",
              "      box-shadow: 0px 1px 2px rgba(60, 64, 67, 0.3), 0px 1px 3px 1px rgba(60, 64, 67, 0.15);\n",
              "      fill: #174EA6;\n",
              "    }\n",
              "\n",
              "    [theme=dark] .colab-df-convert {\n",
              "      background-color: #3B4455;\n",
              "      fill: #D2E3FC;\n",
              "    }\n",
              "\n",
              "    [theme=dark] .colab-df-convert:hover {\n",
              "      background-color: #434B5C;\n",
              "      box-shadow: 0px 1px 3px 1px rgba(0, 0, 0, 0.15);\n",
              "      filter: drop-shadow(0px 1px 2px rgba(0, 0, 0, 0.3));\n",
              "      fill: #FFFFFF;\n",
              "    }\n",
              "  </style>\n",
              "\n",
              "      <script>\n",
              "        const buttonEl =\n",
              "          document.querySelector('#df-c0a1b767-6aa0-4173-8e81-15e2ad7abf7e button.colab-df-convert');\n",
              "        buttonEl.style.display =\n",
              "          google.colab.kernel.accessAllowed ? 'block' : 'none';\n",
              "\n",
              "        async function convertToInteractive(key) {\n",
              "          const element = document.querySelector('#df-c0a1b767-6aa0-4173-8e81-15e2ad7abf7e');\n",
              "          const dataTable =\n",
              "            await google.colab.kernel.invokeFunction('convertToInteractive',\n",
              "                                                     [key], {});\n",
              "          if (!dataTable) return;\n",
              "\n",
              "          const docLinkHtml = 'Like what you see? Visit the ' +\n",
              "            '<a target=\"_blank\" href=https://colab.research.google.com/notebooks/data_table.ipynb>data table notebook</a>'\n",
              "            + ' to learn more about interactive tables.';\n",
              "          element.innerHTML = '';\n",
              "          dataTable['output_type'] = 'display_data';\n",
              "          await google.colab.output.renderOutput(dataTable, element);\n",
              "          const docLink = document.createElement('div');\n",
              "          docLink.innerHTML = docLinkHtml;\n",
              "          element.appendChild(docLink);\n",
              "        }\n",
              "      </script>\n",
              "    </div>\n",
              "  </div>\n",
              "  "
            ]
          },
          "metadata": {},
          "execution_count": 12
        }
      ],
      "source": [
        "data_df.head()"
      ]
    },
    {
      "cell_type": "code",
      "source": [
        "data_df[\"Year\"] = pd.to_datetime(data_df[\"Year\"], format=\"%Y\")\n",
        "data_df.set_index(\"Year\", inplace=True)"
      ],
      "metadata": {
        "id": "lRVwD71f8UpY"
      },
      "execution_count": null,
      "outputs": []
    },
    {
      "cell_type": "code",
      "source": [
        "data_df.head()"
      ],
      "metadata": {
        "colab": {
          "base_uri": "https://localhost:8080/",
          "height": 238
        },
        "id": "E8-JC-439KIR",
        "outputId": "f81aaef7-8ba2-4b5e-f462-5c6dabfed30f"
      },
      "execution_count": null,
      "outputs": [
        {
          "output_type": "execute_result",
          "data": {
            "text/plain": [
              "            ID                      Name Sex   Age  Height  Weight  \\\n",
              "Year                                                                 \n",
              "1992-01-01   1                 A Dijiang   M  24.0   180.0    80.0   \n",
              "2012-01-01   2                  A Lamusi   M  23.0   170.0    60.0   \n",
              "1920-01-01   3       Gunnar Nielsen Aaby   M  24.0     NaN     NaN   \n",
              "1900-01-01   4      Edgar Lindenau Aabye   M  34.0     NaN     NaN   \n",
              "1988-01-01   5  Christine Jacoba Aaftink   F  21.0   185.0    82.0   \n",
              "\n",
              "                      Team  NOC        Games  Season       City  \\\n",
              "Year                                                              \n",
              "1992-01-01           China  CHN  1992 Summer  Summer  Barcelona   \n",
              "2012-01-01           China  CHN  2012 Summer  Summer     London   \n",
              "1920-01-01         Denmark  DEN  1920 Summer  Summer  Antwerpen   \n",
              "1900-01-01  Denmark/Sweden  DEN  1900 Summer  Summer      Paris   \n",
              "1988-01-01     Netherlands  NED  1988 Winter  Winter    Calgary   \n",
              "\n",
              "                    Sport                             Event Medal  \n",
              "Year                                                               \n",
              "1992-01-01     Basketball       Basketball Men's Basketball   NaN  \n",
              "2012-01-01           Judo      Judo Men's Extra-Lightweight   NaN  \n",
              "1920-01-01       Football           Football Men's Football   NaN  \n",
              "1900-01-01     Tug-Of-War       Tug-Of-War Men's Tug-Of-War  Gold  \n",
              "1988-01-01  Speed Skating  Speed Skating Women's 500 metres   NaN  "
            ],
            "text/html": [
              "\n",
              "  <div id=\"df-b9557f31-a2cd-4e84-b4e9-76bb4daef604\">\n",
              "    <div class=\"colab-df-container\">\n",
              "      <div>\n",
              "<style scoped>\n",
              "    .dataframe tbody tr th:only-of-type {\n",
              "        vertical-align: middle;\n",
              "    }\n",
              "\n",
              "    .dataframe tbody tr th {\n",
              "        vertical-align: top;\n",
              "    }\n",
              "\n",
              "    .dataframe thead th {\n",
              "        text-align: right;\n",
              "    }\n",
              "</style>\n",
              "<table border=\"1\" class=\"dataframe\">\n",
              "  <thead>\n",
              "    <tr style=\"text-align: right;\">\n",
              "      <th></th>\n",
              "      <th>ID</th>\n",
              "      <th>Name</th>\n",
              "      <th>Sex</th>\n",
              "      <th>Age</th>\n",
              "      <th>Height</th>\n",
              "      <th>Weight</th>\n",
              "      <th>Team</th>\n",
              "      <th>NOC</th>\n",
              "      <th>Games</th>\n",
              "      <th>Season</th>\n",
              "      <th>City</th>\n",
              "      <th>Sport</th>\n",
              "      <th>Event</th>\n",
              "      <th>Medal</th>\n",
              "    </tr>\n",
              "    <tr>\n",
              "      <th>Year</th>\n",
              "      <th></th>\n",
              "      <th></th>\n",
              "      <th></th>\n",
              "      <th></th>\n",
              "      <th></th>\n",
              "      <th></th>\n",
              "      <th></th>\n",
              "      <th></th>\n",
              "      <th></th>\n",
              "      <th></th>\n",
              "      <th></th>\n",
              "      <th></th>\n",
              "      <th></th>\n",
              "      <th></th>\n",
              "    </tr>\n",
              "  </thead>\n",
              "  <tbody>\n",
              "    <tr>\n",
              "      <th>1992-01-01</th>\n",
              "      <td>1</td>\n",
              "      <td>A Dijiang</td>\n",
              "      <td>M</td>\n",
              "      <td>24.0</td>\n",
              "      <td>180.0</td>\n",
              "      <td>80.0</td>\n",
              "      <td>China</td>\n",
              "      <td>CHN</td>\n",
              "      <td>1992 Summer</td>\n",
              "      <td>Summer</td>\n",
              "      <td>Barcelona</td>\n",
              "      <td>Basketball</td>\n",
              "      <td>Basketball Men's Basketball</td>\n",
              "      <td>NaN</td>\n",
              "    </tr>\n",
              "    <tr>\n",
              "      <th>2012-01-01</th>\n",
              "      <td>2</td>\n",
              "      <td>A Lamusi</td>\n",
              "      <td>M</td>\n",
              "      <td>23.0</td>\n",
              "      <td>170.0</td>\n",
              "      <td>60.0</td>\n",
              "      <td>China</td>\n",
              "      <td>CHN</td>\n",
              "      <td>2012 Summer</td>\n",
              "      <td>Summer</td>\n",
              "      <td>London</td>\n",
              "      <td>Judo</td>\n",
              "      <td>Judo Men's Extra-Lightweight</td>\n",
              "      <td>NaN</td>\n",
              "    </tr>\n",
              "    <tr>\n",
              "      <th>1920-01-01</th>\n",
              "      <td>3</td>\n",
              "      <td>Gunnar Nielsen Aaby</td>\n",
              "      <td>M</td>\n",
              "      <td>24.0</td>\n",
              "      <td>NaN</td>\n",
              "      <td>NaN</td>\n",
              "      <td>Denmark</td>\n",
              "      <td>DEN</td>\n",
              "      <td>1920 Summer</td>\n",
              "      <td>Summer</td>\n",
              "      <td>Antwerpen</td>\n",
              "      <td>Football</td>\n",
              "      <td>Football Men's Football</td>\n",
              "      <td>NaN</td>\n",
              "    </tr>\n",
              "    <tr>\n",
              "      <th>1900-01-01</th>\n",
              "      <td>4</td>\n",
              "      <td>Edgar Lindenau Aabye</td>\n",
              "      <td>M</td>\n",
              "      <td>34.0</td>\n",
              "      <td>NaN</td>\n",
              "      <td>NaN</td>\n",
              "      <td>Denmark/Sweden</td>\n",
              "      <td>DEN</td>\n",
              "      <td>1900 Summer</td>\n",
              "      <td>Summer</td>\n",
              "      <td>Paris</td>\n",
              "      <td>Tug-Of-War</td>\n",
              "      <td>Tug-Of-War Men's Tug-Of-War</td>\n",
              "      <td>Gold</td>\n",
              "    </tr>\n",
              "    <tr>\n",
              "      <th>1988-01-01</th>\n",
              "      <td>5</td>\n",
              "      <td>Christine Jacoba Aaftink</td>\n",
              "      <td>F</td>\n",
              "      <td>21.0</td>\n",
              "      <td>185.0</td>\n",
              "      <td>82.0</td>\n",
              "      <td>Netherlands</td>\n",
              "      <td>NED</td>\n",
              "      <td>1988 Winter</td>\n",
              "      <td>Winter</td>\n",
              "      <td>Calgary</td>\n",
              "      <td>Speed Skating</td>\n",
              "      <td>Speed Skating Women's 500 metres</td>\n",
              "      <td>NaN</td>\n",
              "    </tr>\n",
              "  </tbody>\n",
              "</table>\n",
              "</div>\n",
              "      <button class=\"colab-df-convert\" onclick=\"convertToInteractive('df-b9557f31-a2cd-4e84-b4e9-76bb4daef604')\"\n",
              "              title=\"Convert this dataframe to an interactive table.\"\n",
              "              style=\"display:none;\">\n",
              "        \n",
              "  <svg xmlns=\"http://www.w3.org/2000/svg\" height=\"24px\"viewBox=\"0 0 24 24\"\n",
              "       width=\"24px\">\n",
              "    <path d=\"M0 0h24v24H0V0z\" fill=\"none\"/>\n",
              "    <path d=\"M18.56 5.44l.94 2.06.94-2.06 2.06-.94-2.06-.94-.94-2.06-.94 2.06-2.06.94zm-11 1L8.5 8.5l.94-2.06 2.06-.94-2.06-.94L8.5 2.5l-.94 2.06-2.06.94zm10 10l.94 2.06.94-2.06 2.06-.94-2.06-.94-.94-2.06-.94 2.06-2.06.94z\"/><path d=\"M17.41 7.96l-1.37-1.37c-.4-.4-.92-.59-1.43-.59-.52 0-1.04.2-1.43.59L10.3 9.45l-7.72 7.72c-.78.78-.78 2.05 0 2.83L4 21.41c.39.39.9.59 1.41.59.51 0 1.02-.2 1.41-.59l7.78-7.78 2.81-2.81c.8-.78.8-2.07 0-2.86zM5.41 20L4 18.59l7.72-7.72 1.47 1.35L5.41 20z\"/>\n",
              "  </svg>\n",
              "      </button>\n",
              "      \n",
              "  <style>\n",
              "    .colab-df-container {\n",
              "      display:flex;\n",
              "      flex-wrap:wrap;\n",
              "      gap: 12px;\n",
              "    }\n",
              "\n",
              "    .colab-df-convert {\n",
              "      background-color: #E8F0FE;\n",
              "      border: none;\n",
              "      border-radius: 50%;\n",
              "      cursor: pointer;\n",
              "      display: none;\n",
              "      fill: #1967D2;\n",
              "      height: 32px;\n",
              "      padding: 0 0 0 0;\n",
              "      width: 32px;\n",
              "    }\n",
              "\n",
              "    .colab-df-convert:hover {\n",
              "      background-color: #E2EBFA;\n",
              "      box-shadow: 0px 1px 2px rgba(60, 64, 67, 0.3), 0px 1px 3px 1px rgba(60, 64, 67, 0.15);\n",
              "      fill: #174EA6;\n",
              "    }\n",
              "\n",
              "    [theme=dark] .colab-df-convert {\n",
              "      background-color: #3B4455;\n",
              "      fill: #D2E3FC;\n",
              "    }\n",
              "\n",
              "    [theme=dark] .colab-df-convert:hover {\n",
              "      background-color: #434B5C;\n",
              "      box-shadow: 0px 1px 3px 1px rgba(0, 0, 0, 0.15);\n",
              "      filter: drop-shadow(0px 1px 2px rgba(0, 0, 0, 0.3));\n",
              "      fill: #FFFFFF;\n",
              "    }\n",
              "  </style>\n",
              "\n",
              "      <script>\n",
              "        const buttonEl =\n",
              "          document.querySelector('#df-b9557f31-a2cd-4e84-b4e9-76bb4daef604 button.colab-df-convert');\n",
              "        buttonEl.style.display =\n",
              "          google.colab.kernel.accessAllowed ? 'block' : 'none';\n",
              "\n",
              "        async function convertToInteractive(key) {\n",
              "          const element = document.querySelector('#df-b9557f31-a2cd-4e84-b4e9-76bb4daef604');\n",
              "          const dataTable =\n",
              "            await google.colab.kernel.invokeFunction('convertToInteractive',\n",
              "                                                     [key], {});\n",
              "          if (!dataTable) return;\n",
              "\n",
              "          const docLinkHtml = 'Like what you see? Visit the ' +\n",
              "            '<a target=\"_blank\" href=https://colab.research.google.com/notebooks/data_table.ipynb>data table notebook</a>'\n",
              "            + ' to learn more about interactive tables.';\n",
              "          element.innerHTML = '';\n",
              "          dataTable['output_type'] = 'display_data';\n",
              "          await google.colab.output.renderOutput(dataTable, element);\n",
              "          const docLink = document.createElement('div');\n",
              "          docLink.innerHTML = docLinkHtml;\n",
              "          element.appendChild(docLink);\n",
              "        }\n",
              "      </script>\n",
              "    </div>\n",
              "  </div>\n",
              "  "
            ]
          },
          "metadata": {},
          "execution_count": 14
        }
      ]
    },
    {
      "cell_type": "code",
      "execution_count": null,
      "metadata": {
        "colab": {
          "base_uri": "https://localhost:8080/"
        },
        "id": "j9xdrWvkE-oJ",
        "outputId": "17872883-744d-44fd-e484-e54f499521e5"
      },
      "outputs": [
        {
          "output_type": "stream",
          "name": "stdout",
          "text": [
            "<class 'pandas.core.frame.DataFrame'>\n",
            "DatetimeIndex: 271116 entries, 1992-01-01 to 2002-01-01\n",
            "Data columns (total 14 columns):\n",
            " #   Column  Non-Null Count   Dtype  \n",
            "---  ------  --------------   -----  \n",
            " 0   ID      271116 non-null  int64  \n",
            " 1   Name    271116 non-null  object \n",
            " 2   Sex     271116 non-null  object \n",
            " 3   Age     261642 non-null  float64\n",
            " 4   Height  210945 non-null  float64\n",
            " 5   Weight  208241 non-null  float64\n",
            " 6   Team    271116 non-null  object \n",
            " 7   NOC     271116 non-null  object \n",
            " 8   Games   271116 non-null  object \n",
            " 9   Season  271116 non-null  object \n",
            " 10  City    271116 non-null  object \n",
            " 11  Sport   271116 non-null  object \n",
            " 12  Event   271116 non-null  object \n",
            " 13  Medal   39783 non-null   object \n",
            "dtypes: float64(3), int64(1), object(10)\n",
            "memory usage: 31.0+ MB\n"
          ]
        }
      ],
      "source": [
        "data_df.info()"
      ]
    },
    {
      "cell_type": "code",
      "execution_count": null,
      "metadata": {
        "colab": {
          "base_uri": "https://localhost:8080/",
          "height": 300
        },
        "id": "uS73aEqDE-oJ",
        "outputId": "2c3c3bb6-441c-41ca-f6d9-78a7ac29b36e"
      },
      "outputs": [
        {
          "output_type": "execute_result",
          "data": {
            "text/plain": [
              "                 Age         Height         Weight\n",
              "count  261642.000000  210945.000000  208241.000000\n",
              "mean       25.556898     175.338970      70.702393\n",
              "std         6.393561      10.518462      14.348020\n",
              "min        10.000000     127.000000      25.000000\n",
              "25%        21.000000     168.000000      60.000000\n",
              "50%        24.000000     175.000000      70.000000\n",
              "75%        28.000000     183.000000      79.000000\n",
              "max        97.000000     226.000000     214.000000"
            ],
            "text/html": [
              "\n",
              "  <div id=\"df-cf42d60f-9662-468f-9b5e-80f31525243a\">\n",
              "    <div class=\"colab-df-container\">\n",
              "      <div>\n",
              "<style scoped>\n",
              "    .dataframe tbody tr th:only-of-type {\n",
              "        vertical-align: middle;\n",
              "    }\n",
              "\n",
              "    .dataframe tbody tr th {\n",
              "        vertical-align: top;\n",
              "    }\n",
              "\n",
              "    .dataframe thead th {\n",
              "        text-align: right;\n",
              "    }\n",
              "</style>\n",
              "<table border=\"1\" class=\"dataframe\">\n",
              "  <thead>\n",
              "    <tr style=\"text-align: right;\">\n",
              "      <th></th>\n",
              "      <th>Age</th>\n",
              "      <th>Height</th>\n",
              "      <th>Weight</th>\n",
              "    </tr>\n",
              "  </thead>\n",
              "  <tbody>\n",
              "    <tr>\n",
              "      <th>count</th>\n",
              "      <td>261642.000000</td>\n",
              "      <td>210945.000000</td>\n",
              "      <td>208241.000000</td>\n",
              "    </tr>\n",
              "    <tr>\n",
              "      <th>mean</th>\n",
              "      <td>25.556898</td>\n",
              "      <td>175.338970</td>\n",
              "      <td>70.702393</td>\n",
              "    </tr>\n",
              "    <tr>\n",
              "      <th>std</th>\n",
              "      <td>6.393561</td>\n",
              "      <td>10.518462</td>\n",
              "      <td>14.348020</td>\n",
              "    </tr>\n",
              "    <tr>\n",
              "      <th>min</th>\n",
              "      <td>10.000000</td>\n",
              "      <td>127.000000</td>\n",
              "      <td>25.000000</td>\n",
              "    </tr>\n",
              "    <tr>\n",
              "      <th>25%</th>\n",
              "      <td>21.000000</td>\n",
              "      <td>168.000000</td>\n",
              "      <td>60.000000</td>\n",
              "    </tr>\n",
              "    <tr>\n",
              "      <th>50%</th>\n",
              "      <td>24.000000</td>\n",
              "      <td>175.000000</td>\n",
              "      <td>70.000000</td>\n",
              "    </tr>\n",
              "    <tr>\n",
              "      <th>75%</th>\n",
              "      <td>28.000000</td>\n",
              "      <td>183.000000</td>\n",
              "      <td>79.000000</td>\n",
              "    </tr>\n",
              "    <tr>\n",
              "      <th>max</th>\n",
              "      <td>97.000000</td>\n",
              "      <td>226.000000</td>\n",
              "      <td>214.000000</td>\n",
              "    </tr>\n",
              "  </tbody>\n",
              "</table>\n",
              "</div>\n",
              "      <button class=\"colab-df-convert\" onclick=\"convertToInteractive('df-cf42d60f-9662-468f-9b5e-80f31525243a')\"\n",
              "              title=\"Convert this dataframe to an interactive table.\"\n",
              "              style=\"display:none;\">\n",
              "        \n",
              "  <svg xmlns=\"http://www.w3.org/2000/svg\" height=\"24px\"viewBox=\"0 0 24 24\"\n",
              "       width=\"24px\">\n",
              "    <path d=\"M0 0h24v24H0V0z\" fill=\"none\"/>\n",
              "    <path d=\"M18.56 5.44l.94 2.06.94-2.06 2.06-.94-2.06-.94-.94-2.06-.94 2.06-2.06.94zm-11 1L8.5 8.5l.94-2.06 2.06-.94-2.06-.94L8.5 2.5l-.94 2.06-2.06.94zm10 10l.94 2.06.94-2.06 2.06-.94-2.06-.94-.94-2.06-.94 2.06-2.06.94z\"/><path d=\"M17.41 7.96l-1.37-1.37c-.4-.4-.92-.59-1.43-.59-.52 0-1.04.2-1.43.59L10.3 9.45l-7.72 7.72c-.78.78-.78 2.05 0 2.83L4 21.41c.39.39.9.59 1.41.59.51 0 1.02-.2 1.41-.59l7.78-7.78 2.81-2.81c.8-.78.8-2.07 0-2.86zM5.41 20L4 18.59l7.72-7.72 1.47 1.35L5.41 20z\"/>\n",
              "  </svg>\n",
              "      </button>\n",
              "      \n",
              "  <style>\n",
              "    .colab-df-container {\n",
              "      display:flex;\n",
              "      flex-wrap:wrap;\n",
              "      gap: 12px;\n",
              "    }\n",
              "\n",
              "    .colab-df-convert {\n",
              "      background-color: #E8F0FE;\n",
              "      border: none;\n",
              "      border-radius: 50%;\n",
              "      cursor: pointer;\n",
              "      display: none;\n",
              "      fill: #1967D2;\n",
              "      height: 32px;\n",
              "      padding: 0 0 0 0;\n",
              "      width: 32px;\n",
              "    }\n",
              "\n",
              "    .colab-df-convert:hover {\n",
              "      background-color: #E2EBFA;\n",
              "      box-shadow: 0px 1px 2px rgba(60, 64, 67, 0.3), 0px 1px 3px 1px rgba(60, 64, 67, 0.15);\n",
              "      fill: #174EA6;\n",
              "    }\n",
              "\n",
              "    [theme=dark] .colab-df-convert {\n",
              "      background-color: #3B4455;\n",
              "      fill: #D2E3FC;\n",
              "    }\n",
              "\n",
              "    [theme=dark] .colab-df-convert:hover {\n",
              "      background-color: #434B5C;\n",
              "      box-shadow: 0px 1px 3px 1px rgba(0, 0, 0, 0.15);\n",
              "      filter: drop-shadow(0px 1px 2px rgba(0, 0, 0, 0.3));\n",
              "      fill: #FFFFFF;\n",
              "    }\n",
              "  </style>\n",
              "\n",
              "      <script>\n",
              "        const buttonEl =\n",
              "          document.querySelector('#df-cf42d60f-9662-468f-9b5e-80f31525243a button.colab-df-convert');\n",
              "        buttonEl.style.display =\n",
              "          google.colab.kernel.accessAllowed ? 'block' : 'none';\n",
              "\n",
              "        async function convertToInteractive(key) {\n",
              "          const element = document.querySelector('#df-cf42d60f-9662-468f-9b5e-80f31525243a');\n",
              "          const dataTable =\n",
              "            await google.colab.kernel.invokeFunction('convertToInteractive',\n",
              "                                                     [key], {});\n",
              "          if (!dataTable) return;\n",
              "\n",
              "          const docLinkHtml = 'Like what you see? Visit the ' +\n",
              "            '<a target=\"_blank\" href=https://colab.research.google.com/notebooks/data_table.ipynb>data table notebook</a>'\n",
              "            + ' to learn more about interactive tables.';\n",
              "          element.innerHTML = '';\n",
              "          dataTable['output_type'] = 'display_data';\n",
              "          await google.colab.output.renderOutput(dataTable, element);\n",
              "          const docLink = document.createElement('div');\n",
              "          docLink.innerHTML = docLinkHtml;\n",
              "          element.appendChild(docLink);\n",
              "        }\n",
              "      </script>\n",
              "    </div>\n",
              "  </div>\n",
              "  "
            ]
          },
          "metadata": {},
          "execution_count": 16
        }
      ],
      "source": [
        "data_df.drop(columns=[\"ID\"]).describe()"
      ]
    },
    {
      "cell_type": "markdown",
      "source": [
        "We do not want to check the stats for the ID column, so we dropped it."
      ],
      "metadata": {
        "id": "l4o244eHj8c4"
      }
    },
    {
      "cell_type": "markdown",
      "source": [
        "Let's check what columns and how many missing values we have on our data frame.\n",
        "\n"
      ],
      "metadata": {
        "id": "Q3y_XPU1kITH"
      }
    },
    {
      "cell_type": "code",
      "execution_count": null,
      "metadata": {
        "colab": {
          "base_uri": "https://localhost:8080/"
        },
        "id": "TCW6xdTUE-oK",
        "outputId": "30ac791f-fa4c-4296-afe3-03d68e1c86e9"
      },
      "outputs": [
        {
          "output_type": "execute_result",
          "data": {
            "text/plain": [
              "ID             0\n",
              "Name           0\n",
              "Sex            0\n",
              "Age         9474\n",
              "Height     60171\n",
              "Weight     62875\n",
              "Team           0\n",
              "NOC            0\n",
              "Games          0\n",
              "Season         0\n",
              "City           0\n",
              "Sport          0\n",
              "Event          0\n",
              "Medal     231333\n",
              "dtype: int64"
            ]
          },
          "metadata": {},
          "execution_count": 17
        }
      ],
      "source": [
        "data_df.isna().sum()"
      ]
    },
    {
      "cell_type": "markdown",
      "source": [
        "Let's start filling our Nan values in the Age column. But, first, let's explore how the data is distributed."
      ],
      "metadata": {
        "id": "HaldiCv1mkfS"
      }
    },
    {
      "cell_type": "code",
      "source": [
        "data_df[[\"Age\", \"Weight\", \"Height\"]].plot.box(subplots=True, figsize=(15, 7));"
      ],
      "metadata": {
        "colab": {
          "base_uri": "https://localhost:8080/",
          "height": 428
        },
        "id": "F1agdC5dnUZg",
        "outputId": "9efc673b-4df6-4c85-9205-f6a385b9cde1"
      },
      "execution_count": null,
      "outputs": [
        {
          "output_type": "display_data",
          "data": {
            "text/plain": [
              "<Figure size 1080x504 with 3 Axes>"
            ],
            "image/png": "[encoded data removed]"
          },
          "metadata": {
            "needs_background": "light"
          }
        }
      ]
    },
    {
      "cell_type": "markdown",
      "source": [
        "It doesn't seem right to fill the Nan values with the mean of its corresponding category. For example, there is no way that the mean weight of a wrestler is the same as the mean of a cycler.\n",
        "\n",
        "Let's fill the Nan values under the assumption that the sport category matters the most."
      ],
      "metadata": {
        "id": "lzjqWpuan7jD"
      }
    },
    {
      "cell_type": "code",
      "source": [
        "gp_sport_df = data_df.drop(columns=[\"ID\"]).groupby(\"Sport\").mean()\n",
        "for sport in gp_sport_df.index:\n",
        "  sport_mean_age = int(gp_sport_df.at[sport, \"Age\"])\n",
        "  sport_mean_weight = gp_sport_df.at[sport, \"Weight\"]\n",
        "  sport_mean_height = gp_sport_df.at[sport, \"Height\"]\n",
        "  data_df.loc[(data_df[\"Age\"].isna()) & (data_df[\"Sport\"] == sport), \"Age\"] = sport_mean_age\n",
        "  data_df.loc[(data_df[\"Weight\"].isna()) & (data_df[\"Sport\"] == sport), \"Weight\"] = sport_mean_weight\n",
        "  data_df.loc[(data_df[\"Height\"].isna()) & (data_df[\"Sport\"] == sport), \"Height\"] = sport_mean_height"
      ],
      "metadata": {
        "id": "ufblK22MmsvI"
      },
      "execution_count": null,
      "outputs": []
    },
    {
      "cell_type": "markdown",
      "source": [
        "Now let's check if all of our Nan values are gone."
      ],
      "metadata": {
        "id": "C2HiV3Fu0Vx0"
      }
    },
    {
      "cell_type": "code",
      "source": [
        "data_df.isna().sum()"
      ],
      "metadata": {
        "colab": {
          "base_uri": "https://localhost:8080/"
        },
        "id": "B3MzRkFc4SO4",
        "outputId": "c8ec0893-9310-42de-fe86-a6f378349ec0"
      },
      "execution_count": null,
      "outputs": [
        {
          "output_type": "execute_result",
          "data": {
            "text/plain": [
              "ID             0\n",
              "Name           0\n",
              "Sex            0\n",
              "Age            0\n",
              "Height        99\n",
              "Weight       217\n",
              "Team           0\n",
              "NOC            0\n",
              "Games          0\n",
              "Season         0\n",
              "City           0\n",
              "Sport          0\n",
              "Event          0\n",
              "Medal     231333\n",
              "dtype: int64"
            ]
          },
          "metadata": {},
          "execution_count": 20
        }
      ]
    },
    {
      "cell_type": "markdown",
      "source": [
        "Oops! There seems to be some Nan values remaining in Height and Weight column. Why?"
      ],
      "metadata": {
        "id": "EJd-qBuJ4VnS"
      }
    },
    {
      "cell_type": "code",
      "source": [
        "gp_sport_df[gp_sport_df[[\"Height\", \"Weight\"]].isna().any(axis=1)]"
      ],
      "metadata": {
        "colab": {
          "base_uri": "https://localhost:8080/",
          "height": 394
        },
        "id": "lauh4G0W63B2",
        "outputId": "9b1296c9-b330-489d-cc54-ba7fccc129f9"
      },
      "execution_count": null,
      "outputs": [
        {
          "output_type": "execute_result",
          "data": {
            "text/plain": [
              "                           Age  Height  Weight\n",
              "Sport                                         \n",
              "Aeronautics          26.000000     NaN     NaN\n",
              "Alpinism             38.812500     NaN     NaN\n",
              "Basque Pelota        26.000000     NaN     NaN\n",
              "Cricket              29.333333     NaN     NaN\n",
              "Croquet              33.733333     NaN     NaN\n",
              "Jeu De Paume         32.454545   178.5     NaN\n",
              "Military Ski Patrol  23.736842     NaN     NaN\n",
              "Polo                 35.333333   175.5     NaN\n",
              "Racquets             28.666667   176.0     NaN\n",
              "Roque                53.333333     NaN     NaN"
            ],
            "text/html": [
              "\n",
              "  <div id=\"df-ec00b038-5609-4f1b-b073-b8881d51db87\">\n",
              "    <div class=\"colab-df-container\">\n",
              "      <div>\n",
              "<style scoped>\n",
              "    .dataframe tbody tr th:only-of-type {\n",
              "        vertical-align: middle;\n",
              "    }\n",
              "\n",
              "    .dataframe tbody tr th {\n",
              "        vertical-align: top;\n",
              "    }\n",
              "\n",
              "    .dataframe thead th {\n",
              "        text-align: right;\n",
              "    }\n",
              "</style>\n",
              "<table border=\"1\" class=\"dataframe\">\n",
              "  <thead>\n",
              "    <tr style=\"text-align: right;\">\n",
              "      <th></th>\n",
              "      <th>Age</th>\n",
              "      <th>Height</th>\n",
              "      <th>Weight</th>\n",
              "    </tr>\n",
              "    <tr>\n",
              "      <th>Sport</th>\n",
              "      <th></th>\n",
              "      <th></th>\n",
              "      <th></th>\n",
              "    </tr>\n",
              "  </thead>\n",
              "  <tbody>\n",
              "    <tr>\n",
              "      <th>Aeronautics</th>\n",
              "      <td>26.000000</td>\n",
              "      <td>NaN</td>\n",
              "      <td>NaN</td>\n",
              "    </tr>\n",
              "    <tr>\n",
              "      <th>Alpinism</th>\n",
              "      <td>38.812500</td>\n",
              "      <td>NaN</td>\n",
              "      <td>NaN</td>\n",
              "    </tr>\n",
              "    <tr>\n",
              "      <th>Basque Pelota</th>\n",
              "      <td>26.000000</td>\n",
              "      <td>NaN</td>\n",
              "      <td>NaN</td>\n",
              "    </tr>\n",
              "    <tr>\n",
              "      <th>Cricket</th>\n",
              "      <td>29.333333</td>\n",
              "      <td>NaN</td>\n",
              "      <td>NaN</td>\n",
              "    </tr>\n",
              "    <tr>\n",
              "      <th>Croquet</th>\n",
              "      <td>33.733333</td>\n",
              "      <td>NaN</td>\n",
              "      <td>NaN</td>\n",
              "    </tr>\n",
              "    <tr>\n",
              "      <th>Jeu De Paume</th>\n",
              "      <td>32.454545</td>\n",
              "      <td>178.5</td>\n",
              "      <td>NaN</td>\n",
              "    </tr>\n",
              "    <tr>\n",
              "      <th>Military Ski Patrol</th>\n",
              "      <td>23.736842</td>\n",
              "      <td>NaN</td>\n",
              "      <td>NaN</td>\n",
              "    </tr>\n",
              "    <tr>\n",
              "      <th>Polo</th>\n",
              "      <td>35.333333</td>\n",
              "      <td>175.5</td>\n",
              "      <td>NaN</td>\n",
              "    </tr>\n",
              "    <tr>\n",
              "      <th>Racquets</th>\n",
              "      <td>28.666667</td>\n",
              "      <td>176.0</td>\n",
              "      <td>NaN</td>\n",
              "    </tr>\n",
              "    <tr>\n",
              "      <th>Roque</th>\n",
              "      <td>53.333333</td>\n",
              "      <td>NaN</td>\n",
              "      <td>NaN</td>\n",
              "    </tr>\n",
              "  </tbody>\n",
              "</table>\n",
              "</div>\n",
              "      <button class=\"colab-df-convert\" onclick=\"convertToInteractive('df-ec00b038-5609-4f1b-b073-b8881d51db87')\"\n",
              "              title=\"Convert this dataframe to an interactive table.\"\n",
              "              style=\"display:none;\">\n",
              "        \n",
              "  <svg xmlns=\"http://www.w3.org/2000/svg\" height=\"24px\"viewBox=\"0 0 24 24\"\n",
              "       width=\"24px\">\n",
              "    <path d=\"M0 0h24v24H0V0z\" fill=\"none\"/>\n",
              "    <path d=\"M18.56 5.44l.94 2.06.94-2.06 2.06-.94-2.06-.94-.94-2.06-.94 2.06-2.06.94zm-11 1L8.5 8.5l.94-2.06 2.06-.94-2.06-.94L8.5 2.5l-.94 2.06-2.06.94zm10 10l.94 2.06.94-2.06 2.06-.94-2.06-.94-.94-2.06-.94 2.06-2.06.94z\"/><path d=\"M17.41 7.96l-1.37-1.37c-.4-.4-.92-.59-1.43-.59-.52 0-1.04.2-1.43.59L10.3 9.45l-7.72 7.72c-.78.78-.78 2.05 0 2.83L4 21.41c.39.39.9.59 1.41.59.51 0 1.02-.2 1.41-.59l7.78-7.78 2.81-2.81c.8-.78.8-2.07 0-2.86zM5.41 20L4 18.59l7.72-7.72 1.47 1.35L5.41 20z\"/>\n",
              "  </svg>\n",
              "      </button>\n",
              "      \n",
              "  <style>\n",
              "    .colab-df-container {\n",
              "      display:flex;\n",
              "      flex-wrap:wrap;\n",
              "      gap: 12px;\n",
              "    }\n",
              "\n",
              "    .colab-df-convert {\n",
              "      background-color: #E8F0FE;\n",
              "      border: none;\n",
              "      border-radius: 50%;\n",
              "      cursor: pointer;\n",
              "      display: none;\n",
              "      fill: #1967D2;\n",
              "      height: 32px;\n",
              "      padding: 0 0 0 0;\n",
              "      width: 32px;\n",
              "    }\n",
              "\n",
              "    .colab-df-convert:hover {\n",
              "      background-color: #E2EBFA;\n",
              "      box-shadow: 0px 1px 2px rgba(60, 64, 67, 0.3), 0px 1px 3px 1px rgba(60, 64, 67, 0.15);\n",
              "      fill: #174EA6;\n",
              "    }\n",
              "\n",
              "    [theme=dark] .colab-df-convert {\n",
              "      background-color: #3B4455;\n",
              "      fill: #D2E3FC;\n",
              "    }\n",
              "\n",
              "    [theme=dark] .colab-df-convert:hover {\n",
              "      background-color: #434B5C;\n",
              "      box-shadow: 0px 1px 3px 1px rgba(0, 0, 0, 0.15);\n",
              "      filter: drop-shadow(0px 1px 2px rgba(0, 0, 0, 0.3));\n",
              "      fill: #FFFFFF;\n",
              "    }\n",
              "  </style>\n",
              "\n",
              "      <script>\n",
              "        const buttonEl =\n",
              "          document.querySelector('#df-ec00b038-5609-4f1b-b073-b8881d51db87 button.colab-df-convert');\n",
              "        buttonEl.style.display =\n",
              "          google.colab.kernel.accessAllowed ? 'block' : 'none';\n",
              "\n",
              "        async function convertToInteractive(key) {\n",
              "          const element = document.querySelector('#df-ec00b038-5609-4f1b-b073-b8881d51db87');\n",
              "          const dataTable =\n",
              "            await google.colab.kernel.invokeFunction('convertToInteractive',\n",
              "                                                     [key], {});\n",
              "          if (!dataTable) return;\n",
              "\n",
              "          const docLinkHtml = 'Like what you see? Visit the ' +\n",
              "            '<a target=\"_blank\" href=https://colab.research.google.com/notebooks/data_table.ipynb>data table notebook</a>'\n",
              "            + ' to learn more about interactive tables.';\n",
              "          element.innerHTML = '';\n",
              "          dataTable['output_type'] = 'display_data';\n",
              "          await google.colab.output.renderOutput(dataTable, element);\n",
              "          const docLink = document.createElement('div');\n",
              "          docLink.innerHTML = docLinkHtml;\n",
              "          element.appendChild(docLink);\n",
              "        }\n",
              "      </script>\n",
              "    </div>\n",
              "  </div>\n",
              "  "
            ]
          },
          "metadata": {},
          "execution_count": 21
        }
      ]
    },
    {
      "cell_type": "markdown",
      "source": [
        "There are some sports that do not have any register for height and weight. Let's replace those values for the mean of the height and weight."
      ],
      "metadata": {
        "id": "MAmGaC1kAl83"
      }
    },
    {
      "cell_type": "code",
      "source": [
        "mean_height, mean_weight = data_df[[\"Height\", \"Weight\"]].mean()\n",
        "for sport in gp_sport_df.index:\n",
        "  sport_mean_age = int(gp_sport_df.at[sport, \"Age\"])\n",
        "  sport_mean_weight = gp_sport_df.at[sport, \"Weight\"]\n",
        "  if pd.isna(sport_mean_weight):\n",
        "    sport_mean_weight = mean_weight\n",
        "  sport_mean_height = gp_sport_df.at[sport, \"Height\"]\n",
        "  if pd.isna(sport_mean_height):\n",
        "    sport_mean_height = mean_height\n",
        "  data_df.loc[(data_df[\"Age\"].isna()) & (data_df[\"Sport\"] == sport), \"Age\"] = sport_mean_age\n",
        "  data_df.loc[(data_df[\"Weight\"].isna()) & (data_df[\"Sport\"] == sport), \"Weight\"] = sport_mean_weight\n",
        "  data_df.loc[(data_df[\"Height\"].isna()) & (data_df[\"Sport\"] == sport), \"Height\"] = sport_mean_height"
      ],
      "metadata": {
        "id": "gc6OGwbPP-T-"
      },
      "execution_count": null,
      "outputs": []
    },
    {
      "cell_type": "code",
      "source": [
        "data_df.isna().sum()"
      ],
      "metadata": {
        "colab": {
          "base_uri": "https://localhost:8080/"
        },
        "id": "bbfw_vu8RJKB",
        "outputId": "7345c5a1-6f7d-4074-f661-661ac9f2a15b"
      },
      "execution_count": null,
      "outputs": [
        {
          "output_type": "execute_result",
          "data": {
            "text/plain": [
              "ID             0\n",
              "Name           0\n",
              "Sex            0\n",
              "Age            0\n",
              "Height         0\n",
              "Weight         0\n",
              "Team           0\n",
              "NOC            0\n",
              "Games          0\n",
              "Season         0\n",
              "City           0\n",
              "Sport          0\n",
              "Event          0\n",
              "Medal     231333\n",
              "dtype: int64"
            ]
          },
          "metadata": {},
          "execution_count": 23
        }
      ]
    },
    {
      "cell_type": "code",
      "execution_count": null,
      "metadata": {
        "id": "xIF_b2BrE-oK"
      },
      "outputs": [],
      "source": [
        "import jovian"
      ]
    },
    {
      "cell_type": "code",
      "execution_count": null,
      "metadata": {
        "id": "na1aY42SE-oK",
        "colab": {
          "base_uri": "https://localhost:8080/",
          "height": 87
        },
        "outputId": "3075c4b6-6980-44ae-8462-c3451eb85819"
      },
      "outputs": [
        {
          "output_type": "stream",
          "name": "stdout",
          "text": [
            "[jovian] Detected Colab notebook...\u001b[0m\n",
            "[jovian] Uploading colab notebook to Jovian...\u001b[0m\n",
            "Committed successfully! https://jovian.ai/jbcamacho01/analyzing-120-years-of-olympic-history\n"
          ]
        },
        {
          "output_type": "execute_result",
          "data": {
            "text/plain": [
              "'https://jovian.ai/jbcamacho01/analyzing-120-years-of-olympic-history'"
            ],
            "application/vnd.google.colaboratory.intrinsic+json": {
              "type": "string"
            }
          },
          "metadata": {},
          "execution_count": 25
        }
      ],
      "source": [
        "jovian.commit()"
      ]
    },
    {
      "cell_type": "markdown",
      "metadata": {
        "id": "FcnwxipBE-oM"
      },
      "source": [
        "## Exploratory Analysis and Visualization\n",
        "\n",
        "We need to explore our data in order to understand what kind of questions can be answered my our dataset and what inferences should we make about it.\n",
        "\n"
      ]
    },
    {
      "cell_type": "markdown",
      "metadata": {
        "id": "FxIZcBnKE-oM"
      },
      "source": [
        "Let's begin by importing`matplotlib.pyplot` and `seaborn`."
      ]
    },
    {
      "cell_type": "code",
      "execution_count": null,
      "metadata": {
        "id": "LwCKFxOSE-oN"
      },
      "outputs": [],
      "source": [
        "import seaborn as sns\n",
        "import matplotlib\n",
        "import matplotlib.pyplot as plt\n",
        "import numpy as np\n",
        "%matplotlib inline\n",
        "\n",
        "sns.set_style('darkgrid')\n",
        "matplotlib.rcParams['font.size'] = 14\n",
        "matplotlib.rcParams['figure.figsize'] = (9, 5)\n",
        "matplotlib.rcParams['figure.facecolor'] = '#00000000'"
      ]
    },
    {
      "cell_type": "markdown",
      "metadata": {
        "id": "w1LzyaesE-oN"
      },
      "source": [
        "**Age** - It is well-known that age is one of the main factors in an athlete's performance. Let's check how the age is distributed across the whole dataset."
      ]
    },
    {
      "cell_type": "code",
      "execution_count": null,
      "metadata": {
        "id": "knobJAHvE-oO",
        "colab": {
          "base_uri": "https://localhost:8080/"
        },
        "outputId": "bd7078c4-2e23-457e-9039-e5a8ea7b70e2"
      },
      "outputs": [
        {
          "output_type": "display_data",
          "data": {
            "text/plain": [
              "<Figure size 864x576 with 1 Axes>"
            ],
            "image/png": "[encoded data removed]"
          },
          "metadata": {
            "needs_background": "light"
          }
        }
      ],
      "source": [
        "plt.figure(figsize=(12,8))\n",
        "plt.title('Age Distribution in Olympic History')\n",
        "plt.xlabel('Age')\n",
        "plt.ylabel('Number of athletes')\n",
        "plt.hist(data_df['Age'], bins=np.arange(10,90, 5));"
      ]
    },
    {
      "cell_type": "markdown",
      "source": [
        "It turns out that most athletes' in our dataset have an age between 15-35 years. It is somewhat expected as most of the sports requires a high level of physical performance which decreases as one person ages."
      ],
      "metadata": {
        "id": "vPj4cgQ6R49g"
      }
    },
    {
      "cell_type": "markdown",
      "metadata": {
        "id": "8tvJ9q6wE-oO"
      },
      "source": [
        "**Gender** - Let's explore the gender distribution to see if our dataset is representative of the whole population."
      ]
    },
    {
      "cell_type": "code",
      "execution_count": null,
      "metadata": {
        "id": "XASdHLF1E-oP",
        "colab": {
          "base_uri": "https://localhost:8080/"
        },
        "outputId": "c967a4f1-01f9-4c5e-84f1-620ef4797914"
      },
      "outputs": [
        {
          "output_type": "execute_result",
          "data": {
            "text/plain": [
              "M    196594\n",
              "F     74522\n",
              "Name: Sex, dtype: int64"
            ]
          },
          "metadata": {},
          "execution_count": 55
        }
      ],
      "source": [
        "gender_cnts = data_df['Sex'].value_counts()\n",
        "gender_cnts"
      ]
    },
    {
      "cell_type": "code",
      "execution_count": null,
      "metadata": {
        "id": "LSdQus0jE-oQ",
        "colab": {
          "base_uri": "https://localhost:8080/"
        },
        "outputId": "08184c7c-44fd-4b15-b572-8e20f9f2ee2f"
      },
      "outputs": [
        {
          "output_type": "display_data",
          "data": {
            "text/plain": [
              "<Figure size 864x576 with 1 Axes>"
            ],
            "image/png": "[encoded data removed]"
          },
          "metadata": {}
        }
      ],
      "source": [
        "plt.figure(figsize=(12,8))\n",
        "plt.title('Gender distribution of atheles in olympic history')\n",
        "plt.pie(gender_cnts, labels=gender_cnts.index, autopct='%.0f%%');\n",
        "plt.legend();"
      ]
    },
    {
      "cell_type": "markdown",
      "source": [
        "It seems that our dataset is not a good representation of the population. It is highly skewed as 73% of the athletes are men."
      ],
      "metadata": {
        "id": "XGZaprCxUhZv"
      }
    },
    {
      "cell_type": "markdown",
      "metadata": {
        "id": "AW3ZJgOrE-oQ"
      },
      "source": [
        "**Medals** - Let's explore how the granted medals evolves in time."
      ]
    },
    {
      "cell_type": "code",
      "execution_count": null,
      "metadata": {
        "id": "q7mzZ8F2E-oR",
        "colab": {
          "base_uri": "https://localhost:8080/"
        },
        "outputId": "d48b906e-3016-4afe-e883-8dea2bccf4fb"
      },
      "outputs": [
        {
          "output_type": "display_data",
          "data": {
            "text/plain": [
              "<Figure size 648x360 with 1 Axes>"
            ],
            "image/png": "[encoded data removed]"
          },
          "metadata": {
            "needs_background": "light"
          }
        }
      ],
      "source": [
        "medal_gpb_df = data_df.groupby([\"Year\"])[\"Medal\"].count()\n",
        "plt.plot(medal_gpb_df);"
      ]
    },
    {
      "cell_type": "code",
      "execution_count": null,
      "metadata": {
        "id": "CGNgaBNmE-oR",
        "colab": {
          "base_uri": "https://localhost:8080/"
        },
        "outputId": "43f998a3-2db5-4cac-daf5-c05f9754300b"
      },
      "outputs": [
        {
          "output_type": "display_data",
          "data": {
            "text/plain": [
              "<Figure size 648x360 with 1 Axes>"
            ],
            "image/png": "[encoded data removed]"
          },
          "metadata": {
            "needs_background": "light"
          }
        }
      ],
      "source": [
        "plt.hist(medal_gpb_df);"
      ]
    },
    {
      "cell_type": "markdown",
      "source": [
        "It seems that the quantity of granted medals kept increasing until 1994."
      ],
      "metadata": {
        "id": "z5hTpVKaYDIv"
      }
    },
    {
      "cell_type": "markdown",
      "metadata": {
        "id": "yRufLUFtE-oT"
      },
      "source": [
        "**Weight and Height** - Let's explore the weight and height distribution to see if our dataset is representative of the whole population."
      ]
    },
    {
      "cell_type": "code",
      "execution_count": null,
      "metadata": {
        "id": "6J5I6smKE-oT",
        "colab": {
          "base_uri": "https://localhost:8080/"
        },
        "outputId": "15ebdc39-08ec-4f3a-cf6b-2c5dacf6eff6"
      },
      "outputs": [
        {
          "output_type": "display_data",
          "data": {
            "text/plain": [
              "<Figure size 864x576 with 1 Axes>"
            ],
            "image/png": "[encoded data removed]"
          },
          "metadata": {
            "needs_background": "light"
          }
        }
      ],
      "source": [
        "plt.figure(figsize=(12,8))\n",
        "plt.title('Age Distribution in Olympic History')\n",
        "plt.xlabel('Weight')\n",
        "plt.ylabel('Number of athletes')\n",
        "plt.hist(data_df['Weight'], bins=np.arange(20, 200, 25));"
      ]
    },
    {
      "cell_type": "code",
      "execution_count": null,
      "metadata": {
        "id": "KwDJekHEE-oT",
        "colab": {
          "base_uri": "https://localhost:8080/"
        },
        "outputId": "a7f6f4e0-8b74-4156-c3ce-c9f4b7269944"
      },
      "outputs": [
        {
          "output_type": "display_data",
          "data": {
            "text/plain": [
              "<Figure size 864x576 with 1 Axes>"
            ],
            "image/png": "[encoded data removed]"
          },
          "metadata": {
            "needs_background": "light"
          }
        }
      ],
      "source": [
        "plt.figure(figsize=(12,8))\n",
        "plt.title('Age Distribution in Olympic History')\n",
        "plt.xlabel('Height')\n",
        "plt.ylabel('Number of athletes')\n",
        "plt.hist(data_df['Height'], bins=np.arange(120, 230, 10));"
      ]
    },
    {
      "cell_type": "markdown",
      "source": [
        "It turns out that most of the athletes' in our dataset have a weight between 50-100 kilograms and a height between 170-190 centimeters."
      ],
      "metadata": {
        "id": "pWPly6am-BZn"
      }
    },
    {
      "cell_type": "markdown",
      "metadata": {
        "id": "PKENzpe-E-oT"
      },
      "source": [
        "**Body Mass Index (BMI)** - Explore the BMI of the athletes in the Olympic history. Body mass index (BMI) is a measure of body fat based on height and weight. It is often used as an indicator of a person health. To calculate the BMI, we need to convert the Height into meters by dividing it by 100. Then, we can label it. The categories are underweight (under 18.5), normal weight (18.5 to 24.9) , overweight (25 to 29.9), and obese (30 or more)."
      ]
    },
    {
      "cell_type": "code",
      "execution_count": null,
      "metadata": {
        "id": "FMZNqPacE-oT",
        "colab": {
          "base_uri": "https://localhost:8080/"
        },
        "outputId": "8a1112e3-1ae5-4b97-fa6f-d372a0e6fa78"
      },
      "outputs": [
        {
          "output_type": "execute_result",
          "data": {
            "text/plain": [
              "            ID                      Name Sex   Age      Height     Weight  \\\n",
              "Year                                                                        \n",
              "1992-01-01   1                 A Dijiang   M  24.0  180.000000  80.000000   \n",
              "2012-01-01   2                  A Lamusi   M  23.0  170.000000  60.000000   \n",
              "1920-01-01   3       Gunnar Nielsen Aaby   M  24.0  175.402195  70.446834   \n",
              "1900-01-01   4      Edgar Lindenau Aabye   M  34.0  182.480000  95.615385   \n",
              "1988-01-01   5  Christine Jacoba Aaftink   F  21.0  185.000000  82.000000   \n",
              "\n",
              "                      Team  NOC        Games  Season       City  \\\n",
              "Year                                                              \n",
              "1992-01-01           China  CHN  1992 Summer  Summer  Barcelona   \n",
              "2012-01-01           China  CHN  2012 Summer  Summer     London   \n",
              "1920-01-01         Denmark  DEN  1920 Summer  Summer  Antwerpen   \n",
              "1900-01-01  Denmark/Sweden  DEN  1900 Summer  Summer      Paris   \n",
              "1988-01-01     Netherlands  NED  1988 Winter  Winter    Calgary   \n",
              "\n",
              "                    Sport                             Event Medal        BMI  \\\n",
              "Year                                                                           \n",
              "1992-01-01     Basketball       Basketball Men's Basketball   NaN  24.691358   \n",
              "2012-01-01           Judo      Judo Men's Extra-Lightweight   NaN  20.761246   \n",
              "1920-01-01       Football           Football Men's Football   NaN  22.897678   \n",
              "1900-01-01     Tug-Of-War       Tug-Of-War Men's Tug-Of-War  Gold  28.714234   \n",
              "1988-01-01  Speed Skating  Speed Skating Women's 500 metres   NaN  23.959094   \n",
              "\n",
              "                BMI_class  \n",
              "Year                       \n",
              "1992-01-01  Normal weight  \n",
              "2012-01-01  Normal weight  \n",
              "1920-01-01  Normal weight  \n",
              "1900-01-01     Overweight  \n",
              "1988-01-01  Normal weight  "
            ],
            "text/html": [
              "\n",
              "  <div id=\"df-b923f478-bf8b-4109-be1b-b1c8766372e6\">\n",
              "    <div class=\"colab-df-container\">\n",
              "      <div>\n",
              "<style scoped>\n",
              "    .dataframe tbody tr th:only-of-type {\n",
              "        vertical-align: middle;\n",
              "    }\n",
              "\n",
              "    .dataframe tbody tr th {\n",
              "        vertical-align: top;\n",
              "    }\n",
              "\n",
              "    .dataframe thead th {\n",
              "        text-align: right;\n",
              "    }\n",
              "</style>\n",
              "<table border=\"1\" class=\"dataframe\">\n",
              "  <thead>\n",
              "    <tr style=\"text-align: right;\">\n",
              "      <th></th>\n",
              "      <th>ID</th>\n",
              "      <th>Name</th>\n",
              "      <th>Sex</th>\n",
              "      <th>Age</th>\n",
              "      <th>Height</th>\n",
              "      <th>Weight</th>\n",
              "      <th>Team</th>\n",
              "      <th>NOC</th>\n",
              "      <th>Games</th>\n",
              "      <th>Season</th>\n",
              "      <th>City</th>\n",
              "      <th>Sport</th>\n",
              "      <th>Event</th>\n",
              "      <th>Medal</th>\n",
              "      <th>BMI</th>\n",
              "      <th>BMI_class</th>\n",
              "    </tr>\n",
              "    <tr>\n",
              "      <th>Year</th>\n",
              "      <th></th>\n",
              "      <th></th>\n",
              "      <th></th>\n",
              "      <th></th>\n",
              "      <th></th>\n",
              "      <th></th>\n",
              "      <th></th>\n",
              "      <th></th>\n",
              "      <th></th>\n",
              "      <th></th>\n",
              "      <th></th>\n",
              "      <th></th>\n",
              "      <th></th>\n",
              "      <th></th>\n",
              "      <th></th>\n",
              "      <th></th>\n",
              "    </tr>\n",
              "  </thead>\n",
              "  <tbody>\n",
              "    <tr>\n",
              "      <th>1992-01-01</th>\n",
              "      <td>1</td>\n",
              "      <td>A Dijiang</td>\n",
              "      <td>M</td>\n",
              "      <td>24.0</td>\n",
              "      <td>180.000000</td>\n",
              "      <td>80.000000</td>\n",
              "      <td>China</td>\n",
              "      <td>CHN</td>\n",
              "      <td>1992 Summer</td>\n",
              "      <td>Summer</td>\n",
              "      <td>Barcelona</td>\n",
              "      <td>Basketball</td>\n",
              "      <td>Basketball Men's Basketball</td>\n",
              "      <td>NaN</td>\n",
              "      <td>24.691358</td>\n",
              "      <td>Normal weight</td>\n",
              "    </tr>\n",
              "    <tr>\n",
              "      <th>2012-01-01</th>\n",
              "      <td>2</td>\n",
              "      <td>A Lamusi</td>\n",
              "      <td>M</td>\n",
              "      <td>23.0</td>\n",
              "      <td>170.000000</td>\n",
              "      <td>60.000000</td>\n",
              "      <td>China</td>\n",
              "      <td>CHN</td>\n",
              "      <td>2012 Summer</td>\n",
              "      <td>Summer</td>\n",
              "      <td>London</td>\n",
              "      <td>Judo</td>\n",
              "      <td>Judo Men's Extra-Lightweight</td>\n",
              "      <td>NaN</td>\n",
              "      <td>20.761246</td>\n",
              "      <td>Normal weight</td>\n",
              "    </tr>\n",
              "    <tr>\n",
              "      <th>1920-01-01</th>\n",
              "      <td>3</td>\n",
              "      <td>Gunnar Nielsen Aaby</td>\n",
              "      <td>M</td>\n",
              "      <td>24.0</td>\n",
              "      <td>175.402195</td>\n",
              "      <td>70.446834</td>\n",
              "      <td>Denmark</td>\n",
              "      <td>DEN</td>\n",
              "      <td>1920 Summer</td>\n",
              "      <td>Summer</td>\n",
              "      <td>Antwerpen</td>\n",
              "      <td>Football</td>\n",
              "      <td>Football Men's Football</td>\n",
              "      <td>NaN</td>\n",
              "      <td>22.897678</td>\n",
              "      <td>Normal weight</td>\n",
              "    </tr>\n",
              "    <tr>\n",
              "      <th>1900-01-01</th>\n",
              "      <td>4</td>\n",
              "      <td>Edgar Lindenau Aabye</td>\n",
              "      <td>M</td>\n",
              "      <td>34.0</td>\n",
              "      <td>182.480000</td>\n",
              "      <td>95.615385</td>\n",
              "      <td>Denmark/Sweden</td>\n",
              "      <td>DEN</td>\n",
              "      <td>1900 Summer</td>\n",
              "      <td>Summer</td>\n",
              "      <td>Paris</td>\n",
              "      <td>Tug-Of-War</td>\n",
              "      <td>Tug-Of-War Men's Tug-Of-War</td>\n",
              "      <td>Gold</td>\n",
              "      <td>28.714234</td>\n",
              "      <td>Overweight</td>\n",
              "    </tr>\n",
              "    <tr>\n",
              "      <th>1988-01-01</th>\n",
              "      <td>5</td>\n",
              "      <td>Christine Jacoba Aaftink</td>\n",
              "      <td>F</td>\n",
              "      <td>21.0</td>\n",
              "      <td>185.000000</td>\n",
              "      <td>82.000000</td>\n",
              "      <td>Netherlands</td>\n",
              "      <td>NED</td>\n",
              "      <td>1988 Winter</td>\n",
              "      <td>Winter</td>\n",
              "      <td>Calgary</td>\n",
              "      <td>Speed Skating</td>\n",
              "      <td>Speed Skating Women's 500 metres</td>\n",
              "      <td>NaN</td>\n",
              "      <td>23.959094</td>\n",
              "      <td>Normal weight</td>\n",
              "    </tr>\n",
              "  </tbody>\n",
              "</table>\n",
              "</div>\n",
              "      <button class=\"colab-df-convert\" onclick=\"convertToInteractive('df-b923f478-bf8b-4109-be1b-b1c8766372e6')\"\n",
              "              title=\"Convert this dataframe to an interactive table.\"\n",
              "              style=\"display:none;\">\n",
              "        \n",
              "  <svg xmlns=\"http://www.w3.org/2000/svg\" height=\"24px\"viewBox=\"0 0 24 24\"\n",
              "       width=\"24px\">\n",
              "    <path d=\"M0 0h24v24H0V0z\" fill=\"none\"/>\n",
              "    <path d=\"M18.56 5.44l.94 2.06.94-2.06 2.06-.94-2.06-.94-.94-2.06-.94 2.06-2.06.94zm-11 1L8.5 8.5l.94-2.06 2.06-.94-2.06-.94L8.5 2.5l-.94 2.06-2.06.94zm10 10l.94 2.06.94-2.06 2.06-.94-2.06-.94-.94-2.06-.94 2.06-2.06.94z\"/><path d=\"M17.41 7.96l-1.37-1.37c-.4-.4-.92-.59-1.43-.59-.52 0-1.04.2-1.43.59L10.3 9.45l-7.72 7.72c-.78.78-.78 2.05 0 2.83L4 21.41c.39.39.9.59 1.41.59.51 0 1.02-.2 1.41-.59l7.78-7.78 2.81-2.81c.8-.78.8-2.07 0-2.86zM5.41 20L4 18.59l7.72-7.72 1.47 1.35L5.41 20z\"/>\n",
              "  </svg>\n",
              "      </button>\n",
              "      \n",
              "  <style>\n",
              "    .colab-df-container {\n",
              "      display:flex;\n",
              "      flex-wrap:wrap;\n",
              "      gap: 12px;\n",
              "    }\n",
              "\n",
              "    .colab-df-convert {\n",
              "      background-color: #E8F0FE;\n",
              "      border: none;\n",
              "      border-radius: 50%;\n",
              "      cursor: pointer;\n",
              "      display: none;\n",
              "      fill: #1967D2;\n",
              "      height: 32px;\n",
              "      padding: 0 0 0 0;\n",
              "      width: 32px;\n",
              "    }\n",
              "\n",
              "    .colab-df-convert:hover {\n",
              "      background-color: #E2EBFA;\n",
              "      box-shadow: 0px 1px 2px rgba(60, 64, 67, 0.3), 0px 1px 3px 1px rgba(60, 64, 67, 0.15);\n",
              "      fill: #174EA6;\n",
              "    }\n",
              "\n",
              "    [theme=dark] .colab-df-convert {\n",
              "      background-color: #3B4455;\n",
              "      fill: #D2E3FC;\n",
              "    }\n",
              "\n",
              "    [theme=dark] .colab-df-convert:hover {\n",
              "      background-color: #434B5C;\n",
              "      box-shadow: 0px 1px 3px 1px rgba(0, 0, 0, 0.15);\n",
              "      filter: drop-shadow(0px 1px 2px rgba(0, 0, 0, 0.3));\n",
              "      fill: #FFFFFF;\n",
              "    }\n",
              "  </style>\n",
              "\n",
              "      <script>\n",
              "        const buttonEl =\n",
              "          document.querySelector('#df-b923f478-bf8b-4109-be1b-b1c8766372e6 button.colab-df-convert');\n",
              "        buttonEl.style.display =\n",
              "          google.colab.kernel.accessAllowed ? 'block' : 'none';\n",
              "\n",
              "        async function convertToInteractive(key) {\n",
              "          const element = document.querySelector('#df-b923f478-bf8b-4109-be1b-b1c8766372e6');\n",
              "          const dataTable =\n",
              "            await google.colab.kernel.invokeFunction('convertToInteractive',\n",
              "                                                     [key], {});\n",
              "          if (!dataTable) return;\n",
              "\n",
              "          const docLinkHtml = 'Like what you see? Visit the ' +\n",
              "            '<a target=\"_blank\" href=https://colab.research.google.com/notebooks/data_table.ipynb>data table notebook</a>'\n",
              "            + ' to learn more about interactive tables.';\n",
              "          element.innerHTML = '';\n",
              "          dataTable['output_type'] = 'display_data';\n",
              "          await google.colab.output.renderOutput(dataTable, element);\n",
              "          const docLink = document.createElement('div');\n",
              "          docLink.innerHTML = docLinkHtml;\n",
              "          element.appendChild(docLink);\n",
              "        }\n",
              "      </script>\n",
              "    </div>\n",
              "  </div>\n",
              "  "
            ]
          },
          "metadata": {},
          "execution_count": 61
        }
      ],
      "source": [
        "data_df['BMI'] = data_df['Weight'] / (data_df['Height']/100)**2\n",
        "data_df.head()"
      ]
    },
    {
      "cell_type": "code",
      "source": [
        "conditions = [\n",
        "    (data_df['BMI'] < 18.5),\n",
        "    (data_df['BMI'] >= 18.5) & (data_df['BMI'] < 25),\n",
        "    (data_df['BMI'] >= 25) & (data_df['BMI'] < 30),\n",
        "    (data_df['BMI'] >= 30)]\n",
        "choices = ['Underweight', 'Normal weight', 'Overweight', 'Obese']\n",
        "data_df['BMI_class'] = np.select(conditions, choices)\n",
        "data_df.head()"
      ],
      "metadata": {
        "colab": {
          "base_uri": "https://localhost:8080/"
        },
        "id": "fWpo1ou9bI-Q",
        "outputId": "47c5beb2-d422-4b49-a403-1c313ee85d44"
      },
      "execution_count": null,
      "outputs": [
        {
          "output_type": "execute_result",
          "data": {
            "text/plain": [
              "            ID                      Name Sex   Age      Height     Weight  \\\n",
              "Year                                                                        \n",
              "1992-01-01   1                 A Dijiang   M  24.0  180.000000  80.000000   \n",
              "2012-01-01   2                  A Lamusi   M  23.0  170.000000  60.000000   \n",
              "1920-01-01   3       Gunnar Nielsen Aaby   M  24.0  175.402195  70.446834   \n",
              "1900-01-01   4      Edgar Lindenau Aabye   M  34.0  182.480000  95.615385   \n",
              "1988-01-01   5  Christine Jacoba Aaftink   F  21.0  185.000000  82.000000   \n",
              "\n",
              "                      Team  NOC        Games  Season       City  \\\n",
              "Year                                                              \n",
              "1992-01-01           China  CHN  1992 Summer  Summer  Barcelona   \n",
              "2012-01-01           China  CHN  2012 Summer  Summer     London   \n",
              "1920-01-01         Denmark  DEN  1920 Summer  Summer  Antwerpen   \n",
              "1900-01-01  Denmark/Sweden  DEN  1900 Summer  Summer      Paris   \n",
              "1988-01-01     Netherlands  NED  1988 Winter  Winter    Calgary   \n",
              "\n",
              "                    Sport                             Event Medal        BMI  \\\n",
              "Year                                                                           \n",
              "1992-01-01     Basketball       Basketball Men's Basketball   NaN  24.691358   \n",
              "2012-01-01           Judo      Judo Men's Extra-Lightweight   NaN  20.761246   \n",
              "1920-01-01       Football           Football Men's Football   NaN  22.897678   \n",
              "1900-01-01     Tug-Of-War       Tug-Of-War Men's Tug-Of-War  Gold  28.714234   \n",
              "1988-01-01  Speed Skating  Speed Skating Women's 500 metres   NaN  23.959094   \n",
              "\n",
              "                BMI_class  \n",
              "Year                       \n",
              "1992-01-01  Normal weight  \n",
              "2012-01-01  Normal weight  \n",
              "1920-01-01  Normal weight  \n",
              "1900-01-01     Overweight  \n",
              "1988-01-01  Normal weight  "
            ],
            "text/html": [
              "\n",
              "  <div id=\"df-0ea3812d-cd0e-413c-8743-b89630bacac3\">\n",
              "    <div class=\"colab-df-container\">\n",
              "      <div>\n",
              "<style scoped>\n",
              "    .dataframe tbody tr th:only-of-type {\n",
              "        vertical-align: middle;\n",
              "    }\n",
              "\n",
              "    .dataframe tbody tr th {\n",
              "        vertical-align: top;\n",
              "    }\n",
              "\n",
              "    .dataframe thead th {\n",
              "        text-align: right;\n",
              "    }\n",
              "</style>\n",
              "<table border=\"1\" class=\"dataframe\">\n",
              "  <thead>\n",
              "    <tr style=\"text-align: right;\">\n",
              "      <th></th>\n",
              "      <th>ID</th>\n",
              "      <th>Name</th>\n",
              "      <th>Sex</th>\n",
              "      <th>Age</th>\n",
              "      <th>Height</th>\n",
              "      <th>Weight</th>\n",
              "      <th>Team</th>\n",
              "      <th>NOC</th>\n",
              "      <th>Games</th>\n",
              "      <th>Season</th>\n",
              "      <th>City</th>\n",
              "      <th>Sport</th>\n",
              "      <th>Event</th>\n",
              "      <th>Medal</th>\n",
              "      <th>BMI</th>\n",
              "      <th>BMI_class</th>\n",
              "    </tr>\n",
              "    <tr>\n",
              "      <th>Year</th>\n",
              "      <th></th>\n",
              "      <th></th>\n",
              "      <th></th>\n",
              "      <th></th>\n",
              "      <th></th>\n",
              "      <th></th>\n",
              "      <th></th>\n",
              "      <th></th>\n",
              "      <th></th>\n",
              "      <th></th>\n",
              "      <th></th>\n",
              "      <th></th>\n",
              "      <th></th>\n",
              "      <th></th>\n",
              "      <th></th>\n",
              "      <th></th>\n",
              "    </tr>\n",
              "  </thead>\n",
              "  <tbody>\n",
              "    <tr>\n",
              "      <th>1992-01-01</th>\n",
              "      <td>1</td>\n",
              "      <td>A Dijiang</td>\n",
              "      <td>M</td>\n",
              "      <td>24.0</td>\n",
              "      <td>180.000000</td>\n",
              "      <td>80.000000</td>\n",
              "      <td>China</td>\n",
              "      <td>CHN</td>\n",
              "      <td>1992 Summer</td>\n",
              "      <td>Summer</td>\n",
              "      <td>Barcelona</td>\n",
              "      <td>Basketball</td>\n",
              "      <td>Basketball Men's Basketball</td>\n",
              "      <td>NaN</td>\n",
              "      <td>24.691358</td>\n",
              "      <td>Normal weight</td>\n",
              "    </tr>\n",
              "    <tr>\n",
              "      <th>2012-01-01</th>\n",
              "      <td>2</td>\n",
              "      <td>A Lamusi</td>\n",
              "      <td>M</td>\n",
              "      <td>23.0</td>\n",
              "      <td>170.000000</td>\n",
              "      <td>60.000000</td>\n",
              "      <td>China</td>\n",
              "      <td>CHN</td>\n",
              "      <td>2012 Summer</td>\n",
              "      <td>Summer</td>\n",
              "      <td>London</td>\n",
              "      <td>Judo</td>\n",
              "      <td>Judo Men's Extra-Lightweight</td>\n",
              "      <td>NaN</td>\n",
              "      <td>20.761246</td>\n",
              "      <td>Normal weight</td>\n",
              "    </tr>\n",
              "    <tr>\n",
              "      <th>1920-01-01</th>\n",
              "      <td>3</td>\n",
              "      <td>Gunnar Nielsen Aaby</td>\n",
              "      <td>M</td>\n",
              "      <td>24.0</td>\n",
              "      <td>175.402195</td>\n",
              "      <td>70.446834</td>\n",
              "      <td>Denmark</td>\n",
              "      <td>DEN</td>\n",
              "      <td>1920 Summer</td>\n",
              "      <td>Summer</td>\n",
              "      <td>Antwerpen</td>\n",
              "      <td>Football</td>\n",
              "      <td>Football Men's Football</td>\n",
              "      <td>NaN</td>\n",
              "      <td>22.897678</td>\n",
              "      <td>Normal weight</td>\n",
              "    </tr>\n",
              "    <tr>\n",
              "      <th>1900-01-01</th>\n",
              "      <td>4</td>\n",
              "      <td>Edgar Lindenau Aabye</td>\n",
              "      <td>M</td>\n",
              "      <td>34.0</td>\n",
              "      <td>182.480000</td>\n",
              "      <td>95.615385</td>\n",
              "      <td>Denmark/Sweden</td>\n",
              "      <td>DEN</td>\n",
              "      <td>1900 Summer</td>\n",
              "      <td>Summer</td>\n",
              "      <td>Paris</td>\n",
              "      <td>Tug-Of-War</td>\n",
              "      <td>Tug-Of-War Men's Tug-Of-War</td>\n",
              "      <td>Gold</td>\n",
              "      <td>28.714234</td>\n",
              "      <td>Overweight</td>\n",
              "    </tr>\n",
              "    <tr>\n",
              "      <th>1988-01-01</th>\n",
              "      <td>5</td>\n",
              "      <td>Christine Jacoba Aaftink</td>\n",
              "      <td>F</td>\n",
              "      <td>21.0</td>\n",
              "      <td>185.000000</td>\n",
              "      <td>82.000000</td>\n",
              "      <td>Netherlands</td>\n",
              "      <td>NED</td>\n",
              "      <td>1988 Winter</td>\n",
              "      <td>Winter</td>\n",
              "      <td>Calgary</td>\n",
              "      <td>Speed Skating</td>\n",
              "      <td>Speed Skating Women's 500 metres</td>\n",
              "      <td>NaN</td>\n",
              "      <td>23.959094</td>\n",
              "      <td>Normal weight</td>\n",
              "    </tr>\n",
              "  </tbody>\n",
              "</table>\n",
              "</div>\n",
              "      <button class=\"colab-df-convert\" onclick=\"convertToInteractive('df-0ea3812d-cd0e-413c-8743-b89630bacac3')\"\n",
              "              title=\"Convert this dataframe to an interactive table.\"\n",
              "              style=\"display:none;\">\n",
              "        \n",
              "  <svg xmlns=\"http://www.w3.org/2000/svg\" height=\"24px\"viewBox=\"0 0 24 24\"\n",
              "       width=\"24px\">\n",
              "    <path d=\"M0 0h24v24H0V0z\" fill=\"none\"/>\n",
              "    <path d=\"M18.56 5.44l.94 2.06.94-2.06 2.06-.94-2.06-.94-.94-2.06-.94 2.06-2.06.94zm-11 1L8.5 8.5l.94-2.06 2.06-.94-2.06-.94L8.5 2.5l-.94 2.06-2.06.94zm10 10l.94 2.06.94-2.06 2.06-.94-2.06-.94-.94-2.06-.94 2.06-2.06.94z\"/><path d=\"M17.41 7.96l-1.37-1.37c-.4-.4-.92-.59-1.43-.59-.52 0-1.04.2-1.43.59L10.3 9.45l-7.72 7.72c-.78.78-.78 2.05 0 2.83L4 21.41c.39.39.9.59 1.41.59.51 0 1.02-.2 1.41-.59l7.78-7.78 2.81-2.81c.8-.78.8-2.07 0-2.86zM5.41 20L4 18.59l7.72-7.72 1.47 1.35L5.41 20z\"/>\n",
              "  </svg>\n",
              "      </button>\n",
              "      \n",
              "  <style>\n",
              "    .colab-df-container {\n",
              "      display:flex;\n",
              "      flex-wrap:wrap;\n",
              "      gap: 12px;\n",
              "    }\n",
              "\n",
              "    .colab-df-convert {\n",
              "      background-color: #E8F0FE;\n",
              "      border: none;\n",
              "      border-radius: 50%;\n",
              "      cursor: pointer;\n",
              "      display: none;\n",
              "      fill: #1967D2;\n",
              "      height: 32px;\n",
              "      padding: 0 0 0 0;\n",
              "      width: 32px;\n",
              "    }\n",
              "\n",
              "    .colab-df-convert:hover {\n",
              "      background-color: #E2EBFA;\n",
              "      box-shadow: 0px 1px 2px rgba(60, 64, 67, 0.3), 0px 1px 3px 1px rgba(60, 64, 67, 0.15);\n",
              "      fill: #174EA6;\n",
              "    }\n",
              "\n",
              "    [theme=dark] .colab-df-convert {\n",
              "      background-color: #3B4455;\n",
              "      fill: #D2E3FC;\n",
              "    }\n",
              "\n",
              "    [theme=dark] .colab-df-convert:hover {\n",
              "      background-color: #434B5C;\n",
              "      box-shadow: 0px 1px 3px 1px rgba(0, 0, 0, 0.15);\n",
              "      filter: drop-shadow(0px 1px 2px rgba(0, 0, 0, 0.3));\n",
              "      fill: #FFFFFF;\n",
              "    }\n",
              "  </style>\n",
              "\n",
              "      <script>\n",
              "        const buttonEl =\n",
              "          document.querySelector('#df-0ea3812d-cd0e-413c-8743-b89630bacac3 button.colab-df-convert');\n",
              "        buttonEl.style.display =\n",
              "          google.colab.kernel.accessAllowed ? 'block' : 'none';\n",
              "\n",
              "        async function convertToInteractive(key) {\n",
              "          const element = document.querySelector('#df-0ea3812d-cd0e-413c-8743-b89630bacac3');\n",
              "          const dataTable =\n",
              "            await google.colab.kernel.invokeFunction('convertToInteractive',\n",
              "                                                     [key], {});\n",
              "          if (!dataTable) return;\n",
              "\n",
              "          const docLinkHtml = 'Like what you see? Visit the ' +\n",
              "            '<a target=\"_blank\" href=https://colab.research.google.com/notebooks/data_table.ipynb>data table notebook</a>'\n",
              "            + ' to learn more about interactive tables.';\n",
              "          element.innerHTML = '';\n",
              "          dataTable['output_type'] = 'display_data';\n",
              "          await google.colab.output.renderOutput(dataTable, element);\n",
              "          const docLink = document.createElement('div');\n",
              "          docLink.innerHTML = docLinkHtml;\n",
              "          element.appendChild(docLink);\n",
              "        }\n",
              "      </script>\n",
              "    </div>\n",
              "  </div>\n",
              "  "
            ]
          },
          "metadata": {},
          "execution_count": 62
        }
      ]
    },
    {
      "cell_type": "code",
      "execution_count": null,
      "metadata": {
        "id": "7Upekr1ME-oT",
        "colab": {
          "base_uri": "https://localhost:8080/"
        },
        "outputId": "7cc78a75-28b1-4b74-b47f-984cf8eca13b"
      },
      "outputs": [
        {
          "output_type": "display_data",
          "data": {
            "text/plain": [
              "<Figure size 864x576 with 1 Axes>"
            ],
            "image/png": "[encoded data removed]"
          },
          "metadata": {}
        }
      ],
      "source": [
        "bmi_cnts = data_df['BMI_class'].value_counts()\n",
        "plt.figure(figsize=(12,8))\n",
        "plt.title('BMI distribution of atheles in olympic history')\n",
        "plt.pie(bmi_cnts, labels=bmi_cnts.index, autopct='%.0f%%');\n",
        "plt.legend(bmi_cnts.index);"
      ]
    },
    {
      "cell_type": "markdown",
      "source": [
        "It makes sense for most of the athletes to have a normal weight. In contrast, there are some sports like Weightlifting or Wrestling which requires a lot of weight."
      ],
      "metadata": {
        "id": "Op7YcPiicwx1"
      }
    },
    {
      "cell_type": "markdown",
      "metadata": {
        "id": "psvISed8E-oU"
      },
      "source": [
        "Let us save and upload our work to Jovian before continuing"
      ]
    },
    {
      "cell_type": "code",
      "execution_count": null,
      "metadata": {
        "id": "zpj9aR71E-oU"
      },
      "outputs": [],
      "source": [
        "import jovian"
      ]
    },
    {
      "cell_type": "code",
      "execution_count": null,
      "metadata": {
        "id": "ihegedJuE-oV",
        "colab": {
          "base_uri": "https://localhost:8080/"
        },
        "outputId": "79333d57-1017-4f74-d55f-042dc37e7b01"
      },
      "outputs": [
        {
          "output_type": "stream",
          "name": "stdout",
          "text": [
            "[jovian] Detected Colab notebook...\u001b[0m\n",
            "[jovian] Uploading colab notebook to Jovian...\u001b[0m\n",
            "Committed successfully! https://jovian.ai/jbcamacho01/analyzing-120-years-of-olympic-history\n"
          ]
        },
        {
          "output_type": "execute_result",
          "data": {
            "text/plain": [
              "'https://jovian.ai/jbcamacho01/analyzing-120-years-of-olympic-history'"
            ],
            "application/vnd.google.colaboratory.intrinsic+json": {
              "type": "string"
            }
          },
          "metadata": {},
          "execution_count": 65
        }
      ],
      "source": [
        "jovian.commit()"
      ]
    },
    {
      "cell_type": "markdown",
      "metadata": {
        "id": "KJDyyTRsE-oV"
      },
      "source": [
        "## Asking and Answering Questions\n",
        "\n",
        "Now, we have some insights about of dataset. Let's ask some questions about it.\n",
        "\n"
      ]
    },
    {
      "cell_type": "markdown",
      "metadata": {
        "id": "ZE3lDUxUE-oX"
      },
      "source": [
        "#### Q1: Which are the teams that have earned the most medals?"
      ]
    },
    {
      "cell_type": "markdown",
      "source": [
        "First, we need to group by number of country (NOC) and aggregate by counting the values, then sort the values and get the 20 countries."
      ],
      "metadata": {
        "id": "sRPCtDsalt94"
      }
    },
    {
      "cell_type": "code",
      "execution_count": null,
      "metadata": {
        "id": "tefAZDqhE-oX",
        "colab": {
          "base_uri": "https://localhost:8080/"
        },
        "outputId": "ceb29f9e-b0cb-476d-d348-03728a79d1db"
      },
      "outputs": [
        {
          "output_type": "execute_result",
          "data": {
            "text/plain": [
              "NOC\n",
              "USA    5637\n",
              "URS    2503\n",
              "GER    2165\n",
              "GBR    2068\n",
              "FRA    1777\n",
              "ITA    1637\n",
              "SWE    1536\n",
              "CAN    1352\n",
              "AUS    1320\n",
              "RUS    1165\n",
              "HUN    1135\n",
              "NED    1040\n",
              "NOR    1033\n",
              "GDR    1005\n",
              "CHN     989\n",
              "JPN     913\n",
              "FIN     900\n",
              "SUI     691\n",
              "ROU     653\n",
              "KOR     638\n",
              "Name: Medal, dtype: int64"
            ]
          },
          "metadata": {},
          "execution_count": 66
        }
      ],
      "source": [
        "teams_gbp = data_df.groupby(\"NOC\")[\"Medal\"].count().sort_values(ascending=False)\n",
        "teams_gbp.head(20)"
      ]
    },
    {
      "cell_type": "code",
      "execution_count": null,
      "metadata": {
        "id": "w6UaoDDkE-oX",
        "colab": {
          "base_uri": "https://localhost:8080/",
          "height": 742
        },
        "outputId": "eee8a3ba-1f2b-4893-d12a-49ec57070282"
      },
      "outputs": [
        {
          "output_type": "display_data",
          "data": {
            "text/plain": [
              "<Figure size 864x864 with 1 Axes>"
            ],
            "image/png": "[encoded data removed]"
          },
          "metadata": {
            "needs_background": "light"
          }
        }
      ],
      "source": [
        "plt.figure(figsize=(12, 12))\n",
        "sns.barplot(x=teams_gbp.head(20), y=teams_gbp.head(20).index)\n",
        "plt.title(\"Earned Medals (Top 20 Countries)\");\n",
        "plt.xlabel('Count');"
      ]
    },
    {
      "cell_type": "markdown",
      "source": [
        "The United States has earned most medals over time, just followed by Soviet Union."
      ],
      "metadata": {
        "id": "-qAWxtRtCl3v"
      }
    },
    {
      "cell_type": "markdown",
      "metadata": {
        "id": "UiYDDCh6E-oY"
      },
      "source": [
        "#### Q2: Which countries have the highest and lowest average age, weight, and height?"
      ]
    },
    {
      "cell_type": "markdown",
      "source": [
        "First, we need to group by  number of country (NOC) and aggregate by averaging the values, then sort the values, and lastly get the head and tail rows."
      ],
      "metadata": {
        "id": "yVphruyxnB3w"
      }
    },
    {
      "cell_type": "code",
      "source": [
        "teams_gbp = data_df.groupby(\"NOC\")[\"Age\", \"Height\", \"Weight\"].mean();"
      ],
      "metadata": {
        "id": "58UCHINyqBl_",
        "colab": {
          "base_uri": "https://localhost:8080/"
        },
        "outputId": "7e8c869d-865c-44ae-b950-b4f8a5f12510"
      },
      "execution_count": null,
      "outputs": [
        {
          "output_type": "stream",
          "name": "stderr",
          "text": [
            "/usr/local/lib/python3.7/dist-packages/ipykernel_launcher.py:1: FutureWarning: Indexing with multiple keys (implicitly converted to a tuple of keys) will be deprecated, use a list instead.\n",
            "  \"\"\"Entry point for launching an IPython kernel.\n"
          ]
        }
      ]
    },
    {
      "cell_type": "code",
      "execution_count": null,
      "metadata": {
        "id": "rmQa2S9IE-oY",
        "colab": {
          "base_uri": "https://localhost:8080/",
          "height": 577
        },
        "outputId": "a976f58d-665c-4c33-f475-b607a86532ba"
      },
      "outputs": [
        {
          "output_type": "display_data",
          "data": {
            "text/plain": [
              "<Figure size 1440x576 with 2 Axes>"
            ],
            "image/png": "[encoded data removed]"
          },
          "metadata": {
            "needs_background": "light"
          }
        }
      ],
      "source": [
        "age_series = teams_gbp[\"Age\"].sort_values(ascending=False)\n",
        "age_series_highest = age_series.head(10)\n",
        "age_series_lowest = age_series.tail(10)\n",
        "f, (ax1, ax2) = plt.subplots(1, 2,figsize=(20, 8))\n",
        "sns.barplot(x=age_series_highest, y=age_series_highest.index, ax=ax1)\n",
        "ax1.set_title(\"Highest Average Age (Top 10 Countries)\")\n",
        "sns.barplot(x=age_series_lowest, y=age_series_lowest.index, ax=ax2)\n",
        "ax2.set_title(\"Lowest Average Age (Top 10 Countries)\")\n",
        "f.tight_layout()"
      ]
    },
    {
      "cell_type": "markdown",
      "source": [
        "For the highest average age, it seems that we have an unknown (UNK) NOC in our dataset, most likely there were some missing records about some athletes. And for the lowest average age, Tuvalu (TUV) seems to have the lowest average with 20.14 years."
      ],
      "metadata": {
        "id": "afohU1Km9Be3"
      }
    },
    {
      "cell_type": "code",
      "source": [
        "height_series = teams_gbp[\"Height\"].sort_values(ascending=False)\n",
        "height_series_highest = height_series.head(10)\n",
        "height_series_lowest = height_series.tail(10)\n",
        "f, (ax1, ax2) = plt.subplots(1, 2,figsize=(20, 8))\n",
        "sns.barplot(x=height_series_highest, y=height_series_highest.index, ax=ax1)\n",
        "ax1.set_title(\"Highest Average Height (Top 10 Countries)\")\n",
        "sns.barplot(x=height_series_lowest, y=height_series_lowest.index, ax=ax2)\n",
        "ax2.set_title(\"Lowest Average Height (Top 10 Countries)\")\n",
        "f.tight_layout()"
      ],
      "metadata": {
        "colab": {
          "base_uri": "https://localhost:8080/",
          "height": 577
        },
        "id": "XEO91fToWH41",
        "outputId": "8350021c-f51e-476c-9a2e-884d44e99bf0"
      },
      "execution_count": null,
      "outputs": [
        {
          "output_type": "display_data",
          "data": {
            "text/plain": [
              "<Figure size 1440x576 with 2 Axes>"
            ],
            "image/png": "[encoded data removed]"
          },
          "metadata": {
            "needs_background": "light"
          }
        }
      ]
    },
    {
      "cell_type": "markdown",
      "source": [
        "For the height, Serbia and Montenegro (SCG) is the highest with an average of 187.07cm and Timor-Leste (TLS) is the lowest with 161.44cm."
      ],
      "metadata": {
        "id": "JBeGFdJRXuAo"
      }
    },
    {
      "cell_type": "code",
      "execution_count": null,
      "metadata": {
        "id": "lR4HFPmvE-oZ",
        "colab": {
          "base_uri": "https://localhost:8080/",
          "height": 577
        },
        "outputId": "38eeb156-a642-4a8d-f621-fe375a23f25e"
      },
      "outputs": [
        {
          "output_type": "display_data",
          "data": {
            "text/plain": [
              "<Figure size 1440x576 with 2 Axes>"
            ],
            "image/png": "[encoded data removed]"
          },
          "metadata": {
            "needs_background": "light"
          }
        }
      ],
      "source": [
        "weight_series = teams_gbp[\"Weight\"].sort_values(ascending=False)\n",
        "weight_series_highest = weight_series.head(10)\n",
        "weight_series_lowest = weight_series.tail(10)\n",
        "f, (ax1, ax2) = plt.subplots(1, 2,figsize=(20, 8))\n",
        "sns.barplot(x=weight_series_highest, y=weight_series_highest.index, ax=ax1)\n",
        "ax1.set_title(\"Highest Average Age (Top 10 Countries)\")\n",
        "sns.barplot(x=weight_series_lowest, y=weight_series_lowest.index, ax=ax2)\n",
        "ax2.set_title(\"Lowest Average Age (Top 10 Countries)\")\n",
        "f.tight_layout()"
      ]
    },
    {
      "cell_type": "markdown",
      "source": [
        "For the weight, Nauru (NRU) is the highest with an average of 95.84kg and Canada Newfoundland (NFL) is the lowest with 57kg.\n",
        "\n"
      ],
      "metadata": {
        "id": "u3orbBO5XufU"
      }
    },
    {
      "cell_type": "markdown",
      "metadata": {
        "id": "67Vk574NE-oZ"
      },
      "source": [
        "#### Q3: Which sports have the highest and lowest average age, weight, and height?"
      ]
    },
    {
      "cell_type": "markdown",
      "source": [
        "First, we need to group by sport and aggregate by averaging the values, then sort the values, and lastly get the head and tail rows."
      ],
      "metadata": {
        "id": "oeYX3Orfqbz1"
      }
    },
    {
      "cell_type": "code",
      "source": [
        "teams_gbp = data_df.groupby(\"Sport\")[\"Age\", \"Height\", \"Weight\"].mean();"
      ],
      "metadata": {
        "id": "8xH8C7uSqbz2",
        "colab": {
          "base_uri": "https://localhost:8080/"
        },
        "outputId": "3b530870-ab7a-472c-ed59-f99f4c7322d4"
      },
      "execution_count": null,
      "outputs": [
        {
          "output_type": "stream",
          "name": "stderr",
          "text": [
            "/usr/local/lib/python3.7/dist-packages/ipykernel_launcher.py:1: FutureWarning: Indexing with multiple keys (implicitly converted to a tuple of keys) will be deprecated, use a list instead.\n",
            "  \"\"\"Entry point for launching an IPython kernel.\n"
          ]
        }
      ]
    },
    {
      "cell_type": "code",
      "execution_count": null,
      "metadata": {
        "colab": {
          "base_uri": "https://localhost:8080/",
          "height": 577
        },
        "id": "K3knXWT-o14u",
        "outputId": "0e2510a4-6ff8-4cf1-e7b6-895530163661"
      },
      "outputs": [
        {
          "output_type": "display_data",
          "data": {
            "text/plain": [
              "<Figure size 1440x576 with 2 Axes>"
            ],
            "image/png": "[encoded data removed]"
          },
          "metadata": {
            "needs_background": "light"
          }
        }
      ],
      "source": [
        "age_series = teams_gbp[\"Age\"].sort_values(ascending=False)\n",
        "age_series_highest = age_series.head(10)\n",
        "age_series_lowest = age_series.tail(10)\n",
        "f, (ax1, ax2) = plt.subplots(1, 2,figsize=(20, 8))\n",
        "sns.barplot(x=age_series_highest, y=age_series_highest.index, ax=ax1)\n",
        "ax1.set_title(\"Highest Average Age (Top 10 Countries)\")\n",
        "sns.barplot(x=age_series_lowest, y=age_series_lowest.index, ax=ax2)\n",
        "ax2.set_title(\"Lowest Average Age (Top 10 Countries)\")\n",
        "f.tight_layout()"
      ]
    },
    {
      "cell_type": "markdown",
      "source": [
        "It seems right for Roque and Art Competitions to be the highest, regarding age, the sports itself are not physically taxing. It appears that Rhythmic Gymnastics have the lowest average age."
      ],
      "metadata": {
        "id": "rONIJj1ogTOU"
      }
    },
    {
      "cell_type": "code",
      "source": [
        "height_series = teams_gbp[\"Height\"].sort_values(ascending=False)\n",
        "height_series_highest = height_series.head(10)\n",
        "height_series_lowest = height_series.tail(10)\n",
        "f, (ax1, ax2) = plt.subplots(1, 2,figsize=(20, 8))\n",
        "sns.barplot(x=height_series_highest, y=height_series_highest.index, ax=ax1)\n",
        "ax1.set_title(\"Highest Average Height (Top 10 Countries)\")\n",
        "sns.barplot(x=height_series_lowest, y=height_series_lowest.index, ax=ax2)\n",
        "ax2.set_title(\"Lowest Average Height (Top 10 Countries)\")\n",
        "f.tight_layout()"
      ],
      "metadata": {
        "colab": {
          "base_uri": "https://localhost:8080/",
          "height": 577
        },
        "id": "SlI6bvIfo14v",
        "outputId": "750c8ea7-3084-401e-b775-fc7a45bc0d85"
      },
      "execution_count": null,
      "outputs": [
        {
          "output_type": "display_data",
          "data": {
            "text/plain": [
              "<Figure size 1440x576 with 2 Axes>"
            ],
            "image/png": "[encoded data removed]"
          },
          "metadata": {
            "needs_background": "light"
          }
        }
      ]
    },
    {
      "cell_type": "markdown",
      "source": [
        "Likewise, it appropriate for Basketball and Volleyball to have the highest average height for obvious reasons. Gymnastics tend to have low statures, so it's not surprising that for it to have the lowest average height."
      ],
      "metadata": {
        "id": "-ZMiexW3grC0"
      }
    },
    {
      "cell_type": "code",
      "execution_count": null,
      "metadata": {
        "colab": {
          "base_uri": "https://localhost:8080/",
          "height": 577
        },
        "id": "u1im04t8o14v",
        "outputId": "5fd0a950-d75c-43a7-a329-1421b28c8d67"
      },
      "outputs": [
        {
          "output_type": "display_data",
          "data": {
            "text/plain": [
              "<Figure size 1440x576 with 2 Axes>"
            ],
            "image/png": "[encoded data removed]"
          },
          "metadata": {
            "needs_background": "light"
          }
        }
      ],
      "source": [
        "weight_series = teams_gbp[\"Weight\"].sort_values(ascending=False)\n",
        "weight_series_highest = weight_series.head(10)\n",
        "weight_series_lowest = weight_series.tail(10)\n",
        "f, (ax1, ax2) = plt.subplots(1, 2,figsize=(20, 8))\n",
        "sns.barplot(x=weight_series_highest, y=weight_series_highest.index, ax=ax1)\n",
        "ax1.set_title(\"Highest Average Age (Top 10 Countries)\")\n",
        "sns.barplot(x=weight_series_lowest, y=weight_series_lowest.index, ax=ax2)\n",
        "ax2.set_title(\"Lowest Average Age (Top 10 Countries)\")\n",
        "f.tight_layout()"
      ]
    },
    {
      "cell_type": "markdown",
      "source": [
        "Tug-Of-War and Rhythmic Gymnastics have the highest and lowest average weight, respectively. It is interesting that Gymnastics appears in all the tops for the lowest."
      ],
      "metadata": {
        "id": "kbbISO0nhQhM"
      }
    },
    {
      "cell_type": "markdown",
      "metadata": {
        "id": "TuJl501tE-oa"
      },
      "source": [
        "#### Q4: Which BMI category has the most athletes? Does this differ if we filter by gender?"
      ]
    },
    {
      "cell_type": "markdown",
      "source": [
        "First, we need to group by BMI_class and Sex, then aggregate by counting the values, and finally reset the index."
      ],
      "metadata": {
        "id": "DaeQzVcLjLST"
      }
    },
    {
      "cell_type": "code",
      "source": [
        "bmi_df = data_df.groupby([\"BMI_class\", \"Sex\"])['ID'].aggregate(['count']).reset_index()\n",
        "bmi_df.head()"
      ],
      "metadata": {
        "colab": {
          "base_uri": "https://localhost:8080/",
          "height": 206
        },
        "id": "LUnoOp_Yd8xp",
        "outputId": "ed3a773c-cfa5-4fdb-c109-417c3d0f9522"
      },
      "execution_count": null,
      "outputs": [
        {
          "output_type": "execute_result",
          "data": {
            "text/plain": [
              "       BMI_class Sex   count\n",
              "0  Normal weight   F   64210\n",
              "1  Normal weight   M  158366\n",
              "2          Obese   F     532\n",
              "3          Obese   M    4198\n",
              "4     Overweight   F    3204"
            ],
            "text/html": [
              "\n",
              "  <div id=\"df-ceecaf56-39f6-4bf7-97ab-2c5629a36711\">\n",
              "    <div class=\"colab-df-container\">\n",
              "      <div>\n",
              "<style scoped>\n",
              "    .dataframe tbody tr th:only-of-type {\n",
              "        vertical-align: middle;\n",
              "    }\n",
              "\n",
              "    .dataframe tbody tr th {\n",
              "        vertical-align: top;\n",
              "    }\n",
              "\n",
              "    .dataframe thead th {\n",
              "        text-align: right;\n",
              "    }\n",
              "</style>\n",
              "<table border=\"1\" class=\"dataframe\">\n",
              "  <thead>\n",
              "    <tr style=\"text-align: right;\">\n",
              "      <th></th>\n",
              "      <th>BMI_class</th>\n",
              "      <th>Sex</th>\n",
              "      <th>count</th>\n",
              "    </tr>\n",
              "  </thead>\n",
              "  <tbody>\n",
              "    <tr>\n",
              "      <th>0</th>\n",
              "      <td>Normal weight</td>\n",
              "      <td>F</td>\n",
              "      <td>64210</td>\n",
              "    </tr>\n",
              "    <tr>\n",
              "      <th>1</th>\n",
              "      <td>Normal weight</td>\n",
              "      <td>M</td>\n",
              "      <td>158366</td>\n",
              "    </tr>\n",
              "    <tr>\n",
              "      <th>2</th>\n",
              "      <td>Obese</td>\n",
              "      <td>F</td>\n",
              "      <td>532</td>\n",
              "    </tr>\n",
              "    <tr>\n",
              "      <th>3</th>\n",
              "      <td>Obese</td>\n",
              "      <td>M</td>\n",
              "      <td>4198</td>\n",
              "    </tr>\n",
              "    <tr>\n",
              "      <th>4</th>\n",
              "      <td>Overweight</td>\n",
              "      <td>F</td>\n",
              "      <td>3204</td>\n",
              "    </tr>\n",
              "  </tbody>\n",
              "</table>\n",
              "</div>\n",
              "      <button class=\"colab-df-convert\" onclick=\"convertToInteractive('df-ceecaf56-39f6-4bf7-97ab-2c5629a36711')\"\n",
              "              title=\"Convert this dataframe to an interactive table.\"\n",
              "              style=\"display:none;\">\n",
              "        \n",
              "  <svg xmlns=\"http://www.w3.org/2000/svg\" height=\"24px\"viewBox=\"0 0 24 24\"\n",
              "       width=\"24px\">\n",
              "    <path d=\"M0 0h24v24H0V0z\" fill=\"none\"/>\n",
              "    <path d=\"M18.56 5.44l.94 2.06.94-2.06 2.06-.94-2.06-.94-.94-2.06-.94 2.06-2.06.94zm-11 1L8.5 8.5l.94-2.06 2.06-.94-2.06-.94L8.5 2.5l-.94 2.06-2.06.94zm10 10l.94 2.06.94-2.06 2.06-.94-2.06-.94-.94-2.06-.94 2.06-2.06.94z\"/><path d=\"M17.41 7.96l-1.37-1.37c-.4-.4-.92-.59-1.43-.59-.52 0-1.04.2-1.43.59L10.3 9.45l-7.72 7.72c-.78.78-.78 2.05 0 2.83L4 21.41c.39.39.9.59 1.41.59.51 0 1.02-.2 1.41-.59l7.78-7.78 2.81-2.81c.8-.78.8-2.07 0-2.86zM5.41 20L4 18.59l7.72-7.72 1.47 1.35L5.41 20z\"/>\n",
              "  </svg>\n",
              "      </button>\n",
              "      \n",
              "  <style>\n",
              "    .colab-df-container {\n",
              "      display:flex;\n",
              "      flex-wrap:wrap;\n",
              "      gap: 12px;\n",
              "    }\n",
              "\n",
              "    .colab-df-convert {\n",
              "      background-color: #E8F0FE;\n",
              "      border: none;\n",
              "      border-radius: 50%;\n",
              "      cursor: pointer;\n",
              "      display: none;\n",
              "      fill: #1967D2;\n",
              "      height: 32px;\n",
              "      padding: 0 0 0 0;\n",
              "      width: 32px;\n",
              "    }\n",
              "\n",
              "    .colab-df-convert:hover {\n",
              "      background-color: #E2EBFA;\n",
              "      box-shadow: 0px 1px 2px rgba(60, 64, 67, 0.3), 0px 1px 3px 1px rgba(60, 64, 67, 0.15);\n",
              "      fill: #174EA6;\n",
              "    }\n",
              "\n",
              "    [theme=dark] .colab-df-convert {\n",
              "      background-color: #3B4455;\n",
              "      fill: #D2E3FC;\n",
              "    }\n",
              "\n",
              "    [theme=dark] .colab-df-convert:hover {\n",
              "      background-color: #434B5C;\n",
              "      box-shadow: 0px 1px 3px 1px rgba(0, 0, 0, 0.15);\n",
              "      filter: drop-shadow(0px 1px 2px rgba(0, 0, 0, 0.3));\n",
              "      fill: #FFFFFF;\n",
              "    }\n",
              "  </style>\n",
              "\n",
              "      <script>\n",
              "        const buttonEl =\n",
              "          document.querySelector('#df-ceecaf56-39f6-4bf7-97ab-2c5629a36711 button.colab-df-convert');\n",
              "        buttonEl.style.display =\n",
              "          google.colab.kernel.accessAllowed ? 'block' : 'none';\n",
              "\n",
              "        async function convertToInteractive(key) {\n",
              "          const element = document.querySelector('#df-ceecaf56-39f6-4bf7-97ab-2c5629a36711');\n",
              "          const dataTable =\n",
              "            await google.colab.kernel.invokeFunction('convertToInteractive',\n",
              "                                                     [key], {});\n",
              "          if (!dataTable) return;\n",
              "\n",
              "          const docLinkHtml = 'Like what you see? Visit the ' +\n",
              "            '<a target=\"_blank\" href=https://colab.research.google.com/notebooks/data_table.ipynb>data table notebook</a>'\n",
              "            + ' to learn more about interactive tables.';\n",
              "          element.innerHTML = '';\n",
              "          dataTable['output_type'] = 'display_data';\n",
              "          await google.colab.output.renderOutput(dataTable, element);\n",
              "          const docLink = document.createElement('div');\n",
              "          docLink.innerHTML = docLinkHtml;\n",
              "          element.appendChild(docLink);\n",
              "        }\n",
              "      </script>\n",
              "    </div>\n",
              "  </div>\n",
              "  "
            ]
          },
          "metadata": {},
          "execution_count": 76
        }
      ]
    },
    {
      "cell_type": "code",
      "execution_count": null,
      "metadata": {
        "id": "WBfZpQl7E-oa",
        "colab": {
          "base_uri": "https://localhost:8080/",
          "height": 362
        },
        "outputId": "9ca75af6-615d-4f0f-f1a8-c4d8089f9b4d"
      },
      "outputs": [
        {
          "output_type": "display_data",
          "data": {
            "text/plain": [
              "<Figure size 1008x360 with 1 Axes>"
            ],
            "image/png": "[encoded data removed]"
          },
          "metadata": {
            "needs_background": "light"
          }
        }
      ],
      "source": [
        "plt.figure(figsize=(14, 5))\n",
        "sns.barplot(data=bmi_df,\n",
        "            x=\"BMI_class\",\n",
        "            y=\"count\"\n",
        "           )\n",
        "\n",
        "plt.title(\"Athletes by BMI Category\")\n",
        "plt.show()"
      ]
    },
    {
      "cell_type": "markdown",
      "source": [
        "It seems that normal-weight athletes are the predominant participants in Olympics. Let's check how this changes after filtering by sex."
      ],
      "metadata": {
        "id": "08ZwJ1gEjI-a"
      }
    },
    {
      "cell_type": "code",
      "source": [
        "plt.figure(figsize=(14, 5))\n",
        "sns.barplot(data=bmi_df,\n",
        "            x=\"BMI_class\",\n",
        "            y=\"count\",\n",
        "            hue=\"Sex\",\n",
        "           )\n",
        "\n",
        "plt.title(\"Athletes by BMI Category (Male / Female)\")\n",
        "plt.show()"
      ],
      "metadata": {
        "colab": {
          "base_uri": "https://localhost:8080/",
          "height": 362
        },
        "id": "xhvBBda8f6JH",
        "outputId": "875240c0-8c76-4f85-fcfd-ba9f32dd3fc3"
      },
      "execution_count": null,
      "outputs": [
        {
          "output_type": "display_data",
          "data": {
            "text/plain": [
              "<Figure size 1008x360 with 1 Axes>"
            ],
            "image/png": "[encoded data removed]"
          },
          "metadata": {
            "needs_background": "light"
          }
        }
      ]
    },
    {
      "cell_type": "markdown",
      "source": [
        "Unsurprisingly, there seems to be more males in overall categories, except for underweight. Another fact is that there are not female athletes within the obese category."
      ],
      "metadata": {
        "id": "17F8fKo35Mqs"
      }
    },
    {
      "cell_type": "markdown",
      "metadata": {
        "id": "BHoCnBoyE-ob"
      },
      "source": [
        "#### Q5: Which BMI category has earned the most medals?"
      ]
    },
    {
      "cell_type": "markdown",
      "source": [
        "First, we need to group by BMI_class and Medal, then aggregate by counting the values, and finally reset the index."
      ],
      "metadata": {
        "id": "cIy_IYEcilXz"
      }
    },
    {
      "cell_type": "code",
      "execution_count": null,
      "metadata": {
        "id": "qbu2rf8PE-oa",
        "colab": {
          "base_uri": "https://localhost:8080/",
          "height": 206
        },
        "outputId": "5aaf59b2-19ee-4b2a-d638-54135ce2cbdd"
      },
      "outputs": [
        {
          "output_type": "execute_result",
          "data": {
            "text/plain": [
              "       BMI_class   Medal     ID   Name    Sex    Age  Height  Weight   Team  \\\n",
              "0  Normal weight  Bronze  10549  10549  10549  10549   10549   10549  10549   \n",
              "1  Normal weight    Gold  10514  10514  10514  10514   10514   10514  10514   \n",
              "2  Normal weight  Silver  10342  10342  10342  10342   10342   10342  10342   \n",
              "3          Obese  Bronze    249    249    249    249     249     249    249   \n",
              "4          Obese    Gold    258    258    258    258     258     258    258   \n",
              "\n",
              "     NOC  Games  Season   City  Sport  Event    BMI  \n",
              "0  10549  10549   10549  10549  10549  10549  10549  \n",
              "1  10514  10514   10514  10514  10514  10514  10514  \n",
              "2  10342  10342   10342  10342  10342  10342  10342  \n",
              "3    249    249     249    249    249    249    249  \n",
              "4    258    258     258    258    258    258    258  "
            ],
            "text/html": [
              "\n",
              "  <div id=\"df-0500a563-1019-4c59-b177-e1079dc8011d\">\n",
              "    <div class=\"colab-df-container\">\n",
              "      <div>\n",
              "<style scoped>\n",
              "    .dataframe tbody tr th:only-of-type {\n",
              "        vertical-align: middle;\n",
              "    }\n",
              "\n",
              "    .dataframe tbody tr th {\n",
              "        vertical-align: top;\n",
              "    }\n",
              "\n",
              "    .dataframe thead th {\n",
              "        text-align: right;\n",
              "    }\n",
              "</style>\n",
              "<table border=\"1\" class=\"dataframe\">\n",
              "  <thead>\n",
              "    <tr style=\"text-align: right;\">\n",
              "      <th></th>\n",
              "      <th>BMI_class</th>\n",
              "      <th>Medal</th>\n",
              "      <th>ID</th>\n",
              "      <th>Name</th>\n",
              "      <th>Sex</th>\n",
              "      <th>Age</th>\n",
              "      <th>Height</th>\n",
              "      <th>Weight</th>\n",
              "      <th>Team</th>\n",
              "      <th>NOC</th>\n",
              "      <th>Games</th>\n",
              "      <th>Season</th>\n",
              "      <th>City</th>\n",
              "      <th>Sport</th>\n",
              "      <th>Event</th>\n",
              "      <th>BMI</th>\n",
              "    </tr>\n",
              "  </thead>\n",
              "  <tbody>\n",
              "    <tr>\n",
              "      <th>0</th>\n",
              "      <td>Normal weight</td>\n",
              "      <td>Bronze</td>\n",
              "      <td>10549</td>\n",
              "      <td>10549</td>\n",
              "      <td>10549</td>\n",
              "      <td>10549</td>\n",
              "      <td>10549</td>\n",
              "      <td>10549</td>\n",
              "      <td>10549</td>\n",
              "      <td>10549</td>\n",
              "      <td>10549</td>\n",
              "      <td>10549</td>\n",
              "      <td>10549</td>\n",
              "      <td>10549</td>\n",
              "      <td>10549</td>\n",
              "      <td>10549</td>\n",
              "    </tr>\n",
              "    <tr>\n",
              "      <th>1</th>\n",
              "      <td>Normal weight</td>\n",
              "      <td>Gold</td>\n",
              "      <td>10514</td>\n",
              "      <td>10514</td>\n",
              "      <td>10514</td>\n",
              "      <td>10514</td>\n",
              "      <td>10514</td>\n",
              "      <td>10514</td>\n",
              "      <td>10514</td>\n",
              "      <td>10514</td>\n",
              "      <td>10514</td>\n",
              "      <td>10514</td>\n",
              "      <td>10514</td>\n",
              "      <td>10514</td>\n",
              "      <td>10514</td>\n",
              "      <td>10514</td>\n",
              "    </tr>\n",
              "    <tr>\n",
              "      <th>2</th>\n",
              "      <td>Normal weight</td>\n",
              "      <td>Silver</td>\n",
              "      <td>10342</td>\n",
              "      <td>10342</td>\n",
              "      <td>10342</td>\n",
              "      <td>10342</td>\n",
              "      <td>10342</td>\n",
              "      <td>10342</td>\n",
              "      <td>10342</td>\n",
              "      <td>10342</td>\n",
              "      <td>10342</td>\n",
              "      <td>10342</td>\n",
              "      <td>10342</td>\n",
              "      <td>10342</td>\n",
              "      <td>10342</td>\n",
              "      <td>10342</td>\n",
              "    </tr>\n",
              "    <tr>\n",
              "      <th>3</th>\n",
              "      <td>Obese</td>\n",
              "      <td>Bronze</td>\n",
              "      <td>249</td>\n",
              "      <td>249</td>\n",
              "      <td>249</td>\n",
              "      <td>249</td>\n",
              "      <td>249</td>\n",
              "      <td>249</td>\n",
              "      <td>249</td>\n",
              "      <td>249</td>\n",
              "      <td>249</td>\n",
              "      <td>249</td>\n",
              "      <td>249</td>\n",
              "      <td>249</td>\n",
              "      <td>249</td>\n",
              "      <td>249</td>\n",
              "    </tr>\n",
              "    <tr>\n",
              "      <th>4</th>\n",
              "      <td>Obese</td>\n",
              "      <td>Gold</td>\n",
              "      <td>258</td>\n",
              "      <td>258</td>\n",
              "      <td>258</td>\n",
              "      <td>258</td>\n",
              "      <td>258</td>\n",
              "      <td>258</td>\n",
              "      <td>258</td>\n",
              "      <td>258</td>\n",
              "      <td>258</td>\n",
              "      <td>258</td>\n",
              "      <td>258</td>\n",
              "      <td>258</td>\n",
              "      <td>258</td>\n",
              "      <td>258</td>\n",
              "    </tr>\n",
              "  </tbody>\n",
              "</table>\n",
              "</div>\n",
              "      <button class=\"colab-df-convert\" onclick=\"convertToInteractive('df-0500a563-1019-4c59-b177-e1079dc8011d')\"\n",
              "              title=\"Convert this dataframe to an interactive table.\"\n",
              "              style=\"display:none;\">\n",
              "        \n",
              "  <svg xmlns=\"http://www.w3.org/2000/svg\" height=\"24px\"viewBox=\"0 0 24 24\"\n",
              "       width=\"24px\">\n",
              "    <path d=\"M0 0h24v24H0V0z\" fill=\"none\"/>\n",
              "    <path d=\"M18.56 5.44l.94 2.06.94-2.06 2.06-.94-2.06-.94-.94-2.06-.94 2.06-2.06.94zm-11 1L8.5 8.5l.94-2.06 2.06-.94-2.06-.94L8.5 2.5l-.94 2.06-2.06.94zm10 10l.94 2.06.94-2.06 2.06-.94-2.06-.94-.94-2.06-.94 2.06-2.06.94z\"/><path d=\"M17.41 7.96l-1.37-1.37c-.4-.4-.92-.59-1.43-.59-.52 0-1.04.2-1.43.59L10.3 9.45l-7.72 7.72c-.78.78-.78 2.05 0 2.83L4 21.41c.39.39.9.59 1.41.59.51 0 1.02-.2 1.41-.59l7.78-7.78 2.81-2.81c.8-.78.8-2.07 0-2.86zM5.41 20L4 18.59l7.72-7.72 1.47 1.35L5.41 20z\"/>\n",
              "  </svg>\n",
              "      </button>\n",
              "      \n",
              "  <style>\n",
              "    .colab-df-container {\n",
              "      display:flex;\n",
              "      flex-wrap:wrap;\n",
              "      gap: 12px;\n",
              "    }\n",
              "\n",
              "    .colab-df-convert {\n",
              "      background-color: #E8F0FE;\n",
              "      border: none;\n",
              "      border-radius: 50%;\n",
              "      cursor: pointer;\n",
              "      display: none;\n",
              "      fill: #1967D2;\n",
              "      height: 32px;\n",
              "      padding: 0 0 0 0;\n",
              "      width: 32px;\n",
              "    }\n",
              "\n",
              "    .colab-df-convert:hover {\n",
              "      background-color: #E2EBFA;\n",
              "      box-shadow: 0px 1px 2px rgba(60, 64, 67, 0.3), 0px 1px 3px 1px rgba(60, 64, 67, 0.15);\n",
              "      fill: #174EA6;\n",
              "    }\n",
              "\n",
              "    [theme=dark] .colab-df-convert {\n",
              "      background-color: #3B4455;\n",
              "      fill: #D2E3FC;\n",
              "    }\n",
              "\n",
              "    [theme=dark] .colab-df-convert:hover {\n",
              "      background-color: #434B5C;\n",
              "      box-shadow: 0px 1px 3px 1px rgba(0, 0, 0, 0.15);\n",
              "      filter: drop-shadow(0px 1px 2px rgba(0, 0, 0, 0.3));\n",
              "      fill: #FFFFFF;\n",
              "    }\n",
              "  </style>\n",
              "\n",
              "      <script>\n",
              "        const buttonEl =\n",
              "          document.querySelector('#df-0500a563-1019-4c59-b177-e1079dc8011d button.colab-df-convert');\n",
              "        buttonEl.style.display =\n",
              "          google.colab.kernel.accessAllowed ? 'block' : 'none';\n",
              "\n",
              "        async function convertToInteractive(key) {\n",
              "          const element = document.querySelector('#df-0500a563-1019-4c59-b177-e1079dc8011d');\n",
              "          const dataTable =\n",
              "            await google.colab.kernel.invokeFunction('convertToInteractive',\n",
              "                                                     [key], {});\n",
              "          if (!dataTable) return;\n",
              "\n",
              "          const docLinkHtml = 'Like what you see? Visit the ' +\n",
              "            '<a target=\"_blank\" href=https://colab.research.google.com/notebooks/data_table.ipynb>data table notebook</a>'\n",
              "            + ' to learn more about interactive tables.';\n",
              "          element.innerHTML = '';\n",
              "          dataTable['output_type'] = 'display_data';\n",
              "          await google.colab.output.renderOutput(dataTable, element);\n",
              "          const docLink = document.createElement('div');\n",
              "          docLink.innerHTML = docLinkHtml;\n",
              "          element.appendChild(docLink);\n",
              "        }\n",
              "      </script>\n",
              "    </div>\n",
              "  </div>\n",
              "  "
            ]
          },
          "metadata": {},
          "execution_count": 79
        }
      ],
      "source": [
        "t = data_df.groupby([\"BMI_class\", \"Medal\"]).count().reset_index()\n",
        "t.head()"
      ]
    },
    {
      "cell_type": "code",
      "source": [
        "plt.figure(figsize=(14, 5))\n",
        "sns.barplot(data=t,\n",
        "            x=\"BMI_class\",\n",
        "            y=\"ID\"\n",
        "           )\n",
        "\n",
        "plt.title(\"Bar plot\")\n",
        "plt.show()"
      ],
      "metadata": {
        "colab": {
          "base_uri": "https://localhost:8080/",
          "height": 362
        },
        "id": "HW14ZBQQc9wC",
        "outputId": "5e60539a-bb16-4471-a058-0ecef5f17c13"
      },
      "execution_count": null,
      "outputs": [
        {
          "output_type": "display_data",
          "data": {
            "text/plain": [
              "<Figure size 1008x360 with 1 Axes>"
            ],
            "image/png": "[encoded data removed]"
          },
          "metadata": {
            "needs_background": "light"
          }
        }
      ]
    },
    {
      "cell_type": "markdown",
      "source": [
        "It seems that normal weight athletes have earned the most medals. Let's check how medal types are distributed."
      ],
      "metadata": {
        "id": "Y1sGzoEJjB8M"
      }
    },
    {
      "cell_type": "code",
      "source": [
        "plt.figure(figsize=(14, 5))\n",
        "sns.barplot(data=t,\n",
        "            x=\"BMI_class\",\n",
        "            y=\"ID\",\n",
        "            hue=\"Medal\",\n",
        "           )\n",
        "\n",
        "plt.title(\"Bar plot\")\n",
        "plt.show()"
      ],
      "metadata": {
        "colab": {
          "base_uri": "https://localhost:8080/",
          "height": 362
        },
        "id": "9BLYQZwkdYxz",
        "outputId": "24254185-62dd-4d50-a18c-a5ceca47ae3a"
      },
      "execution_count": null,
      "outputs": [
        {
          "output_type": "display_data",
          "data": {
            "text/plain": [
              "<Figure size 1008x360 with 1 Axes>"
            ],
            "image/png": "[encoded data removed]"
          },
          "metadata": {
            "needs_background": "light"
          }
        }
      ]
    },
    {
      "cell_type": "markdown",
      "metadata": {
        "id": "yqrEJfkdE-oc"
      },
      "source": [
        "Let us save and upload our work to Jovian before continuing."
      ]
    },
    {
      "cell_type": "code",
      "execution_count": null,
      "metadata": {
        "id": "q94SPPxGE-oc"
      },
      "outputs": [],
      "source": [
        "import jovian"
      ]
    },
    {
      "cell_type": "code",
      "execution_count": null,
      "metadata": {
        "id": "ukefmLuBE-oc",
        "colab": {
          "base_uri": "https://localhost:8080/",
          "height": 87
        },
        "outputId": "ae1e9a03-a594-48d6-cbbe-1f9e73effb75"
      },
      "outputs": [
        {
          "output_type": "stream",
          "name": "stdout",
          "text": [
            "[jovian] Detected Colab notebook...\u001b[0m\n",
            "[jovian] Uploading colab notebook to Jovian...\u001b[0m\n",
            "Committed successfully! https://jovian.ai/jbcamacho01/analyzing-120-years-of-olympic-history\n"
          ]
        },
        {
          "output_type": "execute_result",
          "data": {
            "text/plain": [
              "'https://jovian.ai/jbcamacho01/analyzing-120-years-of-olympic-history'"
            ],
            "application/vnd.google.colaboratory.intrinsic+json": {
              "type": "string"
            }
          },
          "metadata": {},
          "execution_count": 85
        }
      ],
      "source": [
        "jovian.commit()"
      ]
    },
    {
      "cell_type": "markdown",
      "metadata": {
        "id": "KT-sdJTyE-oc"
      },
      "source": [
        "## Inferences and Conclusion"
      ]
    },
    {
      "cell_type": "markdown",
      "source": [
        "We have obtained valuable insight from the dataset. We summarize them as follows:\n",
        "\n",
        "- Most of the athletes' in our dataset have an age between 15-35 years.\n",
        "\n",
        "- 73% of the athletes are men.\n",
        "\n",
        "- The quantity of granted medals kept increasing until 1994.\n",
        "\n",
        "- Most of the athletes' in our dataset have a weight between 50-100 kilograms.\n",
        "\n",
        "- Most of the athletes' in our dataset have a height between 170-190 centimeters.\n",
        "\n",
        "- 82% of the athletes have a normal weight based on the BMI metric.\n",
        "\n",
        "- The United States has earned most medals over time, just followed by the Soviet Union."
      ],
      "metadata": {
        "id": "Gh8dAGQXlZIV"
      }
    },
    {
      "cell_type": "code",
      "execution_count": null,
      "metadata": {
        "id": "ydwhO68RE-od"
      },
      "outputs": [],
      "source": [
        "import jovian"
      ]
    },
    {
      "cell_type": "code",
      "execution_count": null,
      "metadata": {
        "id": "vAqok13xE-od",
        "colab": {
          "base_uri": "https://localhost:8080/",
          "height": 87
        },
        "outputId": "92346664-c6b4-4aac-983b-40b621a130f2"
      },
      "outputs": [
        {
          "output_type": "stream",
          "name": "stdout",
          "text": [
            "[jovian] Detected Colab notebook...\u001b[0m\n",
            "[jovian] Uploading colab notebook to Jovian...\u001b[0m\n",
            "Committed successfully! https://jovian.ai/jbcamacho01/analyzing-120-years-of-olympic-history\n"
          ]
        },
        {
          "output_type": "execute_result",
          "data": {
            "text/plain": [
              "'https://jovian.ai/jbcamacho01/analyzing-120-years-of-olympic-history'"
            ],
            "application/vnd.google.colaboratory.intrinsic+json": {
              "type": "string"
            }
          },
          "metadata": {},
          "execution_count": 87
        }
      ],
      "source": [
        "jovian.commit()"
      ]
    },
    {
      "cell_type": "markdown",
      "metadata": {
        "id": "y78AaH9RE-od"
      },
      "source": [
        "## References and Future Work\n",
        "\n",
        "We would like to add some points for future work in order to improve the above analysis:\n",
        "\n",
        "- Analyze the winter and summer games separately to see if our previous inferences change.\n",
        "- Integrate the `noc_regions.csv` dataset into the analysis by merging it with `athlete_events.csv`.\n",
        "- Perform analyzes for individual athletes.\n",
        "- Check if there is some correlation between number of medals won and the physical characteristics of the athletes.\n",
        "- Review if there are significant differences between different teams within the same country.\n",
        "\n",
        "Check out the following resources to learn more about the dataset and tools used in this notebook:\n",
        "\n",
        "- 120 years of Olympic history: https://www.kaggle.com/code/heesoo37/olympic-history-data-a-thorough-analysis/report\n",
        "- Pandas user guide: https://pandas.pydata.org/docs/user_guide/index.html\n",
        "- Matplotlib user guide: https://matplotlib.org/3.3.1/users/index.html\n",
        "- Seaborn user guide & tutorial: https://seaborn.pydata.org/tutorial.html\n",
        "- `opendatasets` Python library: https://github.com/JovianML/opendatasets"
      ]
    },
    {
      "cell_type": "code",
      "execution_count": null,
      "metadata": {
        "id": "lcFegSVuE-oe"
      },
      "outputs": [],
      "source": [
        "import jovian"
      ]
    },
    {
      "cell_type": "code",
      "execution_count": null,
      "metadata": {
        "scrolled": true,
        "id": "5iZbbufUE-of",
        "outputId": "b88e12a8-9d24-40e0-eda0-59b5de0166b8",
        "colab": {
          "base_uri": "https://localhost:8080/",
          "height": 87
        }
      },
      "outputs": [
        {
          "output_type": "stream",
          "name": "stdout",
          "text": [
            "[jovian] Detected Colab notebook...\u001b[0m\n",
            "[jovian] Uploading colab notebook to Jovian...\u001b[0m\n",
            "Committed successfully! https://jovian.ai/jbcamacho01/analyzing-120-years-of-olympic-history\n"
          ]
        },
        {
          "output_type": "execute_result",
          "data": {
            "text/plain": [
              "'https://jovian.ai/jbcamacho01/analyzing-120-years-of-olympic-history'"
            ],
            "application/vnd.google.colaboratory.intrinsic+json": {
              "type": "string"
            }
          },
          "metadata": {},
          "execution_count": 89
        }
      ],
      "source": [
        "jovian.commit()"
      ]
    }
  ],
  "metadata": {
    "kernelspec": {
      "display_name": "Python 3",
      "language": "python",
      "name": "python3"
    },
    "language_info": {
      "codemirror_mode": {
        "name": "ipython",
        "version": 3
      },
      "file_extension": ".py",
      "mimetype": "text/x-python",
      "name": "python",
      "nbconvert_exporter": "python",
      "pygments_lexer": "ipython3",
      "version": "3.8.5"
    },
    "colab": {
      "provenance": [],
      "collapsed_sections": [
        "FcnwxipBE-oM",
        "UiYDDCh6E-oY",
        "67Vk574NE-oZ",
        "TuJl501tE-oa",
        "BHoCnBoyE-ob",
        "KT-sdJTyE-oc",
        "y78AaH9RE-od"
      ],
      "include_colab_link": true
    }
  },
  "nbformat": 4,
  "nbformat_minor": 0
}